{
  "cells": [
    {
      "attachments": {},
      "cell_type": "markdown",
      "metadata": {
        "id": "6CWTVFmn_Mve"
      },
      "source": [
        "# Map, Filter, Reduce, Lambda & Recursion"
      ]
    },
    {
      "attachments": {},
      "cell_type": "markdown",
      "metadata": {
        "id": "sBZJzyxj_Mvi"
      },
      "source": [
        "## Tasks Today:\n",
        "\n",
        "1) <b>Lambda Functions</b> <br>\n",
        " &nbsp;&nbsp;&nbsp;&nbsp; a) Syntax <br>\n",
        " &nbsp;&nbsp;&nbsp;&nbsp; b) Saving to a Variable <br>\n",
        " &nbsp;&nbsp;&nbsp;&nbsp; c) Multiple Inputs <br>\n",
        " &nbsp;&nbsp;&nbsp;&nbsp; d) Passing a Lambda into a Function <br>\n",
        " &nbsp;&nbsp;&nbsp;&nbsp; e) Returning a Lambda from a Function <br>\n",
        " &nbsp;&nbsp;&nbsp;&nbsp; f) In-Class Exercise #1 <br>\n",
        "2) <b>Map</b> <br>\n",
        " &nbsp;&nbsp;&nbsp;&nbsp; a) Syntax <br>\n",
        " &nbsp;&nbsp;&nbsp;&nbsp; b) Using Lambda's with Map <br>\n",
        " &nbsp;&nbsp;&nbsp;&nbsp; c) In-Class Exercise #2 <br>\n",
        "3) <b>Filter</b> <br>\n",
        " &nbsp;&nbsp;&nbsp;&nbsp; a) Syntax <br>\n",
        " &nbsp;&nbsp;&nbsp;&nbsp; b) Using Lambda's with Filter <br>\n",
        " &nbsp;&nbsp;&nbsp;&nbsp; c) In-Class Exercise #3 <br>\n",
        "4) <b>Recursion</b> <br>\n",
        " &nbsp;&nbsp;&nbsp;&nbsp; a) Implementing a Base <br>\n",
        " &nbsp;&nbsp;&nbsp;&nbsp; b) Writing a Factorial Function <br>\n",
        " &nbsp;&nbsp;&nbsp;&nbsp; c) In-Class Exercise #4 <br>\n",
        "5) <b>Generators & Iterators</b> <br>\n",
        " &nbsp;&nbsp;&nbsp;&nbsp; a) Yield Keyword <br>\n",
        " &nbsp;&nbsp;&nbsp;&nbsp; c) In-Class Exercise #5 <br>\n",
        "6) <b>Exercises</b> <br>\n",
        " &nbsp;&nbsp;&nbsp;&nbsp; a) Exercise #1 - Filtering Empty Strings <br>\n",
        " &nbsp;&nbsp;&nbsp;&nbsp; b) Exercise #2 - Sorting with Last Name <br>\n",
        " &nbsp;&nbsp;&nbsp;&nbsp; c) Exercise #3 - Conversion to Farhenheit <br>\n",
        " &nbsp;&nbsp;&nbsp;&nbsp; d) Exercise #4 - Fibonacci Sequence <br>"
      ]
    },
    {
      "attachments": {},
      "cell_type": "markdown",
      "metadata": {
        "id": "zv3SnIM0_Mvj"
      },
      "source": [
        "## Lambda Functions <br>\n",
        "<p>Lambda functions... or \"Anonymous Functions\" are referring to inline functions with no name. The keyword lambda denotes the no name function, and executes within a single line. Without saving it to a variable; however, it is not able to be used, unless passed in either as a paramater or within list comprehension.<br>Written as \"(keyword lambda) (one or more inputs) (colon) (function to be executed)\"</p>"
      ]
    },
    {
      "attachments": {},
      "cell_type": "markdown",
      "metadata": {
        "id": "RU6TAdoo_Mvk"
      },
      "source": [
        "#### Syntax"
      ]
    },
    {
      "cell_type": "code",
      "execution_count": null,
      "metadata": {},
      "outputs": [],
      "source": []
    },
    {
      "cell_type": "code",
      "execution_count": 208,
      "metadata": {
        "id": "lepRXkqx_Mvk"
      },
      "outputs": [
        {
          "name": "stdout",
          "output_type": "stream",
          "text": [
            "6\n",
            "6\n"
          ]
        }
      ],
      "source": [
        "#lambda >input< x: what we want to do\n",
        "\n",
        "def add_two(x):\n",
        "    return x + 2\n",
        "print(add_two(4))\n",
        "\n",
        "a_var = 4\n",
        "print((lambda x: x+2)(a_var))"
      ]
    },
    {
      "attachments": {},
      "cell_type": "markdown",
      "metadata": {
        "id": "z3yd8V5q_Mvl"
      },
      "source": [
        "#### Saving to a Variable"
      ]
    },
    {
      "cell_type": "code",
      "execution_count": 209,
      "metadata": {
        "id": "PH1dgTHI_Mvl"
      },
      "outputs": [
        {
          "data": {
            "text/plain": [
              "6"
            ]
          },
          "execution_count": 209,
          "metadata": {},
          "output_type": "execute_result"
        }
      ],
      "source": [
        "f_test = lambda x: x+2\n",
        "f_test(4)"
      ]
    },
    {
      "attachments": {},
      "cell_type": "markdown",
      "metadata": {
        "id": "LEnhQ206_Mvl"
      },
      "source": [
        "#### Multiple Inputs"
      ]
    },
    {
      "cell_type": "code",
      "execution_count": 210,
      "metadata": {
        "id": "yhz4e8oc_Mvm"
      },
      "outputs": [
        {
          "name": "stdout",
          "output_type": "stream",
          "text": [
            "120\n",
            "120\n"
          ]
        }
      ],
      "source": [
        "print((lambda x,y,z: x*y*z)(3,5,8))\n",
        "x_test = lambda x,y,z: x * y * z\n",
        "print(x_test(3,5,8))"
      ]
    },
    {
      "attachments": {},
      "cell_type": "markdown",
      "metadata": {
        "id": "0rAdEh_O_Mvm"
      },
      "source": [
        "#### Passing a Lambda into a Function"
      ]
    },
    {
      "cell_type": "code",
      "execution_count": 211,
      "metadata": {
        "id": "YMH292Cx_Mvm"
      },
      "outputs": [
        {
          "data": {
            "text/plain": [
              "16"
            ]
          },
          "execution_count": 211,
          "metadata": {},
          "output_type": "execute_result"
        }
      ],
      "source": [
        "def multiply(function, num):\n",
        "    return function(num)\n",
        "multiply(lambda x: x*x, 4)\n",
        "def squared_nums(num):\n",
        "    return num ** 2\n",
        "multiply(squared_nums, 4)"
      ]
    },
    {
      "attachments": {},
      "cell_type": "markdown",
      "metadata": {
        "id": "ZLGVscCG_Mvn"
      },
      "source": [
        "#### Returning a Lambda from a Function"
      ]
    },
    {
      "cell_type": "code",
      "execution_count": 212,
      "metadata": {
        "id": "QKwjPC7n_Mvn"
      },
      "outputs": [
        {
          "name": "stdout",
          "output_type": "stream",
          "text": [
            "8\n",
            "<function return_lamb.<locals>.<lambda> at 0x00000247B626F2E0>\n",
            "19\n"
          ]
        }
      ],
      "source": [
        "def multiply_test(num):\n",
        "    return num * 4\n",
        "\n",
        "def return_func():\n",
        "    test = 4\n",
        "    def multiply(num):\n",
        "        return num*2\n",
        "    return multiply\n",
        "\n",
        "f_return = return_func()\n",
        "print(f_return(4))\n",
        "\n",
        "def return_lamb(b,c):\n",
        "    return lambda x,a: x+a+b+c\n",
        "r_lamb = return_lamb(4,5)\n",
        "print(r_lamb)\n",
        "print(r_lamb(5,5))"
      ]
    },
    {
      "attachments": {},
      "cell_type": "markdown",
      "metadata": {
        "id": "WGTdhTpo_Mvn"
      },
      "source": [
        "#### If Statements within Lambdas"
      ]
    },
    {
      "cell_type": "code",
      "execution_count": 213,
      "metadata": {
        "id": "TYYHh_mD_Mvn"
      },
      "outputs": [
        {
          "name": "stdout",
          "output_type": "stream",
          "text": [
            "10\n",
            "40\n"
          ]
        }
      ],
      "source": [
        "f_conditional = lambda num: num * 2 if num > 10 else num + 2\n",
        "print(f_conditional(8))\n",
        "print(f_conditional(20))"
      ]
    },
    {
      "attachments": {},
      "cell_type": "markdown",
      "metadata": {
        "id": "Va27c3uJ_Mvn"
      },
      "source": [
        "#### In-Class Exercise #1 <br>\n",
        "<p>Write an anonymous function that cubes the arguments passed in and assign the anonymous function to a variable 'f'.</p>"
      ]
    },
    {
      "cell_type": "code",
      "execution_count": 214,
      "metadata": {
        "id": "Daf-1bIP_Mvo"
      },
      "outputs": [
        {
          "name": "stdout",
          "output_type": "stream",
          "text": [
            "8\n"
          ]
        }
      ],
      "source": [
        "f = lambda x: x ** 3\n",
        "result = f(2)  \n",
        "print(result)  \n"
      ]
    },
    {
      "attachments": {},
      "cell_type": "markdown",
      "metadata": {
        "id": "yJJUgxKC_Mvo"
      },
      "source": [
        "## Map <br>\n",
        "<p>The map function allows you to iterate over an entire list while running a function on each item of the list. This is why the map function works well with lambda's, because it simplifies things and you write less lines of code.<br>The syntax for a map function is \"map(function to be used, list to be used)\"<br>However, you must be careful, as the map function returns a map object, not a list. To turn it into a list we use the list() type conversion.</p>"
      ]
    },
    {
      "attachments": {},
      "cell_type": "markdown",
      "metadata": {
        "id": "Xt_Jq1tZ_Mvo"
      },
      "source": [
        "#### Syntax"
      ]
    },
    {
      "cell_type": "code",
      "execution_count": 215,
      "metadata": {
        "id": "TGgEI05r_Mvo"
      },
      "outputs": [
        {
          "name": "stdout",
          "output_type": "stream",
          "text": [
            "[16]\n",
            "[16, 121]\n",
            "[16, 121, 400]\n",
            "[16, 121, 400, 9]\n",
            "[16, 121, 400, 9, 225]\n",
            "[16, 121, 400, 9, 225, 400]\n",
            "[16, 121, 400, 9, 225, 400, 121]\n",
            "[16, 121, 400, 9, 225, 400, 121, 4]\n",
            "[16, 121, 400, 9, 225, 400, 121, 4, 9]\n",
            "[16, 121, 400, 9, 225, 400, 121, 4, 9, 36]\n",
            "[16, 121, 400, 9, 225, 400, 121, 4, 9, 36, 25]\n",
            "[16, 121, 400, 9, 225, 400, 121, 4, 9, 36, 25, 1]\n",
            "[16, 121, 400, 9, 225, 400, 121, 4, 9, 36, 25, 1, 1936]\n",
            "[16, 121, 400, 9, 225, 400, 121, 4, 9, 36, 25, 1, 1936, 1]\n"
          ]
        }
      ],
      "source": [
        "numbers = [4,11,20,3,15,20,11,2,3,6,5,1,44,1]\n",
        "\n",
        "\n",
        "def squared_normal(val):\n",
        "    return val ** 2\n",
        "lst= []\n",
        "for num in numbers:\n",
        "    lst.append(squared_normal(num))\n",
        "    print(lst)"
      ]
    },
    {
      "cell_type": "code",
      "execution_count": 216,
      "metadata": {},
      "outputs": [
        {
          "name": "stdout",
          "output_type": "stream",
          "text": [
            "(16, 16)\n",
            "(11, 10)\n",
            "(20, 3)\n",
            "(9, 4)\n",
            "(15, 6)\n",
            "(20, 10)\n",
            "(11, 15)\n",
            "(4, 9)\n",
            "(9, 16)\n",
            "(36, 49)\n",
            "(25, 36)\n",
            "(1, 0)\n",
            "(44, 41)\n",
            "(1, 4)\n",
            "[(16, 16), (11, 10), (20, 3), (9, 4), (15, 6), (20, 10), (11, 15), (4, 9), (9, 16), (36, 49), (25, 36), (1, 0), (44, 41), (1, 4)]\n"
          ]
        }
      ],
      "source": [
        "def squared_map(num, num2):\n",
        "    if num  < 10 and num2 < 10:\n",
        "        return num**2, num2 **2\n",
        "    else:\n",
        "        return num, num2\n",
        "    \n",
        "numbers = [4,11,20,3,15,20,11,2,3,6,5,1,44,1]\n",
        "more_nums = [4,10,3,2,6,10,15,3,4,7,6,0,41,2]\n",
        "\n",
        "for val1, val2 in zip(numbers, more_nums):\n",
        "    print(squared_map(val1, val2))\n",
        "\n",
        "squared_numbers_mapped = list(map(squared_map, numbers, more_nums))\n",
        "print(squared_numbers_mapped)\n",
        "another_squared_nums_mapped = list(map(squared_normal, numbers))"
      ]
    },
    {
      "attachments": {},
      "cell_type": "markdown",
      "metadata": {
        "id": "AjWn3RPM_Mvo"
      },
      "source": [
        "#### Using Lambda's with Map"
      ]
    },
    {
      "cell_type": "code",
      "execution_count": 217,
      "metadata": {
        "id": "yKj7455A_Mvp"
      },
      "outputs": [
        {
          "data": {
            "text/plain": [
              "[(16, 16),\n",
              " (11, 10),\n",
              " (20, 3),\n",
              " (9, 4),\n",
              " (15, 6),\n",
              " (20, 10),\n",
              " (11, 15),\n",
              " (4, 9),\n",
              " (9, 16),\n",
              " (36, 49),\n",
              " (25, 36),\n",
              " (1, 0),\n",
              " (44, 41),\n",
              " (1, 4)]"
            ]
          },
          "execution_count": 217,
          "metadata": {},
          "output_type": "execute_result"
        }
      ],
      "source": [
        "list(map(lambda x,y: (x**2, y**2)if x < 10 and y < 10 else (x,y), numbers, more_nums))"
      ]
    },
    {
      "attachments": {},
      "cell_type": "markdown",
      "metadata": {
        "id": "gwStMhKG_Mvp"
      },
      "source": [
        "#### In-Class Exercise #2 <br>\n",
        "<p>Use the map function to double each number and minus it by one in the list by using a lambda function</p>"
      ]
    },
    {
      "cell_type": "code",
      "execution_count": 218,
      "metadata": {
        "id": "bwnXQjML_Mvp"
      },
      "outputs": [
        {
          "name": "stdout",
          "output_type": "stream",
          "text": [
            "[1, 3, 5, 7, 9]\n"
          ]
        },
        {
          "data": {
            "text/plain": [
              "['*****', '*abc*', '*ded*', '*****']"
            ]
          },
          "execution_count": 218,
          "metadata": {},
          "output_type": "execute_result"
        }
      ],
      "source": [
        "my_list = [1, 2, 3, 4, 5]\n",
        "new_list = list(map(lambda x: x*2 - 1, my_list))\n",
        "print(new_list)\n",
        "\n",
        "picture = ['', 'abc', 'ded', '']\n",
        "list(map(lambda x: '*' + x + '*' if len(x) > 1 else '*****', picture))\n",
        "\n"
      ]
    },
    {
      "attachments": {},
      "cell_type": "markdown",
      "metadata": {
        "id": "1yP5tS-5_Mvp"
      },
      "source": [
        "## Filter() <br>\n",
        "<p>Filter's are similar to the map function, where you're able to pass a function argument and a list argument and filter out something from the list based on the conditions passed. Similar to the map function, it returns a filter object, so you need to type convert it to a list()</p>"
      ]
    },
    {
      "attachments": {},
      "cell_type": "markdown",
      "metadata": {
        "id": "-4E29XVC_Mvp"
      },
      "source": [
        "#### Syntax"
      ]
    },
    {
      "cell_type": "code",
      "execution_count": 219,
      "metadata": {
        "id": "HUjqkTZ2_Mvp"
      },
      "outputs": [
        {
          "data": {
            "text/plain": [
              "['Andy', 'Angela']"
            ]
          },
          "execution_count": 219,
          "metadata": {},
          "output_type": "execute_result"
        }
      ],
      "source": [
        "names = ['Bob', 'Andy', 'Max', 'Evan', 'Angela']\n",
        "def a_names(name):\n",
        "    if name[0].lower() == 'a':\n",
        "        return True\n",
        "    else:\n",
        "        return False\n",
        "list(filter(a_names, names))"
      ]
    },
    {
      "cell_type": "code",
      "execution_count": 235,
      "metadata": {},
      "outputs": [
        {
          "name": "stdout",
          "output_type": "stream",
          "text": [
            "Bob B ob\n",
            "Andy A ndy\n",
            "Max M ax\n",
            "Evan E van\n",
            "Angela A ngela\n"
          ]
        }
      ],
      "source": [
        "for name in names:\n",
        "    print(name, name[0], name[1:])"
      ]
    },
    {
      "attachments": {},
      "cell_type": "markdown",
      "metadata": {
        "id": "OPzBC9Cb_Mvp"
      },
      "source": [
        "#### Using Lambda's with Filter()"
      ]
    },
    {
      "cell_type": "code",
      "execution_count": 236,
      "metadata": {
        "id": "zjxgmw9T_Mvq"
      },
      "outputs": [
        {
          "data": {
            "text/plain": [
              "['Andy', 'Angela']"
            ]
          },
          "execution_count": 236,
          "metadata": {},
          "output_type": "execute_result"
        }
      ],
      "source": [
        "list(filter(lambda name: True if name[0].lower() == 'a' else False, names))"
      ]
    },
    {
      "attachments": {},
      "cell_type": "markdown",
      "metadata": {
        "id": "Fih1P0Cy_Mvq"
      },
      "source": [
        "#### In-Class Exercise #3 <br>\n",
        "<p>Filter out all the numbers that are below the mean of the list.<br><b>Hint: Import the 'statistics' module</b></p>"
      ]
    },
    {
      "cell_type": "code",
      "execution_count": 16,
      "metadata": {
        "id": "l4ZWP74-_Mvq"
      },
      "outputs": [
        {
          "ename": "NameError",
          "evalue": "name 'numbers' is not defined",
          "output_type": "error",
          "traceback": [
            "\u001b[1;31m---------------------------------------------------------------------------\u001b[0m",
            "\u001b[1;31mNameError\u001b[0m                                 Traceback (most recent call last)",
            "Cell \u001b[1;32mIn[16], line 4\u001b[0m\n\u001b[0;32m      1\u001b[0m \u001b[39mimport\u001b[39;00m \u001b[39mstatistics\u001b[39;00m\n\u001b[0;32m      2\u001b[0m \u001b[39mimport\u001b[39;00m \u001b[39mnumpy\u001b[39;00m \u001b[39mas\u001b[39;00m \u001b[39mnp\u001b[39;00m\n\u001b[1;32m----> 4\u001b[0m \u001b[39mprint\u001b[39m(statistics\u001b[39m.\u001b[39mmean(numbers))\n\u001b[0;32m      5\u001b[0m \u001b[39mprint\u001b[39m(np\u001b[39m.\u001b[39mmean(numbers))\n\u001b[0;32m      6\u001b[0m \u001b[39mprint\u001b[39m(\u001b[39mlist\u001b[39m(\u001b[39mfilter\u001b[39m(\u001b[39mlambda\u001b[39;00m x: \u001b[39mTrue\u001b[39;00m \u001b[39mif\u001b[39;00m x \u001b[39m>\u001b[39m\u001b[39m=\u001b[39m \u001b[39msum\u001b[39m(numbers)\u001b[39m/\u001b[39m \u001b[39mlen\u001b[39m(numbers) \u001b[39melse\u001b[39;00m \u001b[39mFalse\u001b[39;00m, numbers)))\n",
            "\u001b[1;31mNameError\u001b[0m: name 'numbers' is not defined"
          ]
        }
      ],
      "source": [
        "import statistics\n",
        "import numpy as np\n",
        "\n",
        "print(statistics.mean(numbers))\n",
        "print(np.mean(numbers))\n",
        "print(list(filter(lambda x: True if x >= sum(numbers)/ len(numbers) else False, numbers)))\n",
        "print(list(filter(lambda x: True if x >= np.mean(numbers)else False, numbers)))\n",
        "\n"
      ]
    },
    {
      "attachments": {},
      "cell_type": "markdown",
      "metadata": {
        "id": "wh_Bw27v_Mvr"
      },
      "source": [
        "## Recursion <br>\n",
        "<p>Recursion means that a function is calling itself, so it contanstly executes until a base case is reached. It will then push the returning values back up the chain until the function is complete. A prime example of recursion is computing factorials... such that 5! (factorial) is 5*4*3*2*1 which equals 120.</p>"
      ]
    },
    {
      "cell_type": "code",
      "execution_count": 17,
      "metadata": {},
      "outputs": [
        {
          "ename": "RecursionError",
          "evalue": "maximum recursion depth exceeded",
          "output_type": "error",
          "traceback": [
            "\u001b[1;31m---------------------------------------------------------------------------\u001b[0m",
            "\u001b[1;31mRecursionError\u001b[0m                            Traceback (most recent call last)",
            "Cell \u001b[1;32mIn[17], line 3\u001b[0m\n\u001b[0;32m      1\u001b[0m \u001b[39mdef\u001b[39;00m \u001b[39madd_nums_breakable\u001b[39m(num):\n\u001b[0;32m      2\u001b[0m     \u001b[39mreturn\u001b[39;00m num \u001b[39m+\u001b[39m add_nums_breakable(num\u001b[39m-\u001b[39m\u001b[39m1\u001b[39m)\n\u001b[1;32m----> 3\u001b[0m add_nums_breakable(\u001b[39m5\u001b[39;49m)\n",
            "Cell \u001b[1;32mIn[17], line 2\u001b[0m, in \u001b[0;36madd_nums_breakable\u001b[1;34m(num)\u001b[0m\n\u001b[0;32m      1\u001b[0m \u001b[39mdef\u001b[39;00m \u001b[39madd_nums_breakable\u001b[39m(num):\n\u001b[1;32m----> 2\u001b[0m     \u001b[39mreturn\u001b[39;00m num \u001b[39m+\u001b[39m add_nums_breakable(num\u001b[39m-\u001b[39;49m\u001b[39m1\u001b[39;49m)\n",
            "Cell \u001b[1;32mIn[17], line 2\u001b[0m, in \u001b[0;36madd_nums_breakable\u001b[1;34m(num)\u001b[0m\n\u001b[0;32m      1\u001b[0m \u001b[39mdef\u001b[39;00m \u001b[39madd_nums_breakable\u001b[39m(num):\n\u001b[1;32m----> 2\u001b[0m     \u001b[39mreturn\u001b[39;00m num \u001b[39m+\u001b[39m add_nums_breakable(num\u001b[39m-\u001b[39;49m\u001b[39m1\u001b[39;49m)\n",
            "    \u001b[1;31m[... skipping similar frames: add_nums_breakable at line 2 (2971 times)]\u001b[0m\n",
            "Cell \u001b[1;32mIn[17], line 2\u001b[0m, in \u001b[0;36madd_nums_breakable\u001b[1;34m(num)\u001b[0m\n\u001b[0;32m      1\u001b[0m \u001b[39mdef\u001b[39;00m \u001b[39madd_nums_breakable\u001b[39m(num):\n\u001b[1;32m----> 2\u001b[0m     \u001b[39mreturn\u001b[39;00m num \u001b[39m+\u001b[39m add_nums_breakable(num\u001b[39m-\u001b[39;49m\u001b[39m1\u001b[39;49m)\n",
            "\u001b[1;31mRecursionError\u001b[0m: maximum recursion depth exceeded"
          ]
        }
      ],
      "source": [
        "def add_nums_breakable(num):\n",
        "    return num + add_nums_breakable(num-1)\n",
        "add_nums_breakable(5)"
      ]
    },
    {
      "attachments": {},
      "cell_type": "markdown",
      "metadata": {
        "id": "mB6AfpzO_Mvr"
      },
      "source": [
        "#### Implementing a Base Case"
      ]
    },
    {
      "cell_type": "code",
      "execution_count": 25,
      "metadata": {
        "id": "_Q3YQH6d_Mvr"
      },
      "outputs": [],
      "source": [
        "def add_num(num):\n",
        "    if num <= 1:\n",
        "        print('add_nums(1) = 1')\n",
        "        return num\n",
        "    else:\n",
        "        print(f'add_nums({num} = {num} + add_nums({num - 1})')\n",
        "        return num + add_nums(num-1)"
      ]
    },
    {
      "attachments": {},
      "cell_type": "markdown",
      "metadata": {
        "id": "1DdB7n2q_Mvr"
      },
      "source": [
        "#### Writing a Factorial Function"
      ]
    },
    {
      "cell_type": "code",
      "execution_count": 42,
      "metadata": {
        "id": "LED-YD8u_Mvr"
      },
      "outputs": [
        {
          "name": "stdout",
          "output_type": "stream",
          "text": [
            "factorial(5 = 5 + factorial(4)\n",
            "factorial(4 = 4 + factorial(3)\n",
            "factorial(3 = 3 + factorial(2)\n",
            "factorial(2 = 2 + factorial(1)\n",
            "factorial(1) = 1)\n",
            "15\n"
          ]
        },
        {
          "data": {
            "text/plain": [
              "120"
            ]
          },
          "execution_count": 42,
          "metadata": {},
          "output_type": "execute_result"
        }
      ],
      "source": [
        "def factorial(num):\n",
        "       if num <= 1:\n",
        "        print(f'factorial({num}) = {num})')\n",
        "        return 1\n",
        "       else:\n",
        "        print(f'factorial({num} = {num} + factorial({num - 1})')\n",
        "        return num + factorial(num-1)\n",
        "print(factorial(5))\n",
        "5*4*3*2*1"
      ]
    },
    {
      "attachments": {},
      "cell_type": "markdown",
      "metadata": {
        "id": "gdifMekI_Mvs"
      },
      "source": [
        "#### In-Class Exercise #4 <br>\n",
        "<p>Write a recursive function that subtracts all numbers to the argument given.</p>"
      ]
    },
    {
      "cell_type": "code",
      "execution_count": 98,
      "metadata": {
        "id": "-CjqAPyA_Mvs"
      },
      "outputs": [
        {
          "name": "stdout",
          "output_type": "stream",
          "text": [
            "25 5\n",
            "24 4\n",
            "23 3\n",
            "22 2\n",
            "21 1\n"
          ]
        },
        {
          "data": {
            "text/plain": [
              "20"
            ]
          },
          "execution_count": 98,
          "metadata": {},
          "output_type": "execute_result"
        }
      ],
      "source": [
        "def subtract_numbers(n, y):\n",
        "    if y == 0:\n",
        "        return n\n",
        "    else:\n",
        "        print(n,y)\n",
        "        return subtract_numbers(n-1, y-1)\n",
        "subtract_numbers(25,5)\n",
        "\n",
        "\n",
        "\n",
        "#def subtract_all_numbers(n):\n",
        "  #  if n == 0:\n",
        "  #      return 0\n",
        "  #  else:\n",
        "  #      return n - subtract_all_numbers(n - 1)\n",
        "    \n",
        "#result = subtract_all_numbers(5)\n",
        "#print(result)\n",
        " \n",
        "\n"
      ]
    },
    {
      "attachments": {},
      "cell_type": "markdown",
      "metadata": {
        "id": "6JL8oSYM_Mvs"
      },
      "source": [
        "## Generators <br>\n",
        "<p>Generators are a type of iterable, like lists or tuples. They do not allow indexing, but they can still be iterated through with for loops. They are created using functions and the yield statement.</p>"
      ]
    },
    {
      "attachments": {},
      "cell_type": "markdown",
      "metadata": {
        "id": "FWfVp4Wi_Mvs"
      },
      "source": [
        "#### Yield Keyword <br>\n",
        "<p>The yield keyword denotes a generator, it doesn't return so it won't leave the function and reset all variables in the function scope, instead it yields the number back to the caller.</p>"
      ]
    },
    {
      "cell_type": "code",
      "execution_count": 122,
      "metadata": {
        "id": "JVQbI32I_Mvs"
      },
      "outputs": [
        {
          "data": {
            "text/plain": [
              "[0, 2, 4, 6, 8]"
            ]
          },
          "execution_count": 122,
          "metadata": {},
          "output_type": "execute_result"
        }
      ],
      "source": [
        "#print(type(range(0,10)))\n",
        "def my_range(stop, start=0,step=2):\n",
        "    while start < stop:\n",
        "        yield start\n",
        "        start += step\n",
        "[i for i in my_range(10)]"
      ]
    },
    {
      "attachments": {},
      "cell_type": "markdown",
      "metadata": {
        "id": "gybASoTd_Mvt"
      },
      "source": [
        "#### In-Class Exercise #5 <br>\n",
        "<p>Create a generator that takes a number argument and yields that number squared, then prints each number squared until zero is reached.</p>"
      ]
    },
    {
      "cell_type": "code",
      "execution_count": 128,
      "metadata": {
        "id": "VlLNzwSO_Mvt"
      },
      "outputs": [
        {
          "data": {
            "text/plain": [
              "[25, 16, 9, 4, 1]"
            ]
          },
          "execution_count": 128,
          "metadata": {},
          "output_type": "execute_result"
        }
      ],
      "source": [
        "def squared_nums(n):\n",
        "    while n > 0:\n",
        "        yield n ** 2\n",
        "        n -= 1\n",
        "[i for i in squared_nums(5)]\n"
      ]
    },
    {
      "attachments": {},
      "cell_type": "markdown",
      "metadata": {
        "id": "99N2jCkG_Mvt"
      },
      "source": [
        "# Exercises"
      ]
    },
    {
      "attachments": {},
      "cell_type": "markdown",
      "metadata": {
        "id": "ozx5y6j2_Mvt"
      },
      "source": [
        "### Exercise #1 <br>\n",
        "<p>Filter out all of the empty strings from the list below</p>\n",
        "\n",
        "`Output: ['Argentina', 'San Diego', 'Boston', 'New York']`"
      ]
    },
    {
      "cell_type": "code",
      "execution_count": 179,
      "metadata": {
        "id": "mJ7BY64n_Mvt"
      },
      "outputs": [
        {
          "name": "stdout",
          "output_type": "stream",
          "text": [
            "[' ', 'Argentina', ' ', 'San Diego', '', '', 'Boston', 'New York']\n"
          ]
        }
      ],
      "source": [
        "places = [\" \",\"Argentina\", \" \", \"San Diego\",\"\",\"  \",\"\",\"Boston\",\"New York\"]\n",
        "new_list = list(filter(lambda x: x != \"  \", places))\n",
        "print(new_list)\n"
      ]
    },
    {
      "attachments": {},
      "cell_type": "markdown",
      "metadata": {
        "id": "DrAfmmXo_Mvu"
      },
      "source": [
        "### Exercise #2 <br>\n",
        "<p>Write an anonymous function that sorts this list by the last name...<br><b>Hint: Use the \".sort()\" method and access the key\"</b></p>\n",
        "\n",
        "`Output: ['Victor aNisimov', 'Gary A.J. Bernstein', 'Joel Carter', 'Andrew P. Garfield', 'David hassELHOFF']`"
      ]
    },
    {
      "cell_type": "code",
      "execution_count": 180,
      "metadata": {
        "id": "Pw5O-x_N_Mvu"
      },
      "outputs": [
        {
          "name": "stdout",
          "output_type": "stream",
          "text": [
            "['Victor aNisimov', 'Gary A.J. Bernstein', 'Joel Carter', 'Andrew P. Garfield', 'David hassELHOFF']\n"
          ]
        }
      ],
      "source": [
        "\n",
        "author = ['Victor aNisimov', 'Gary A.J. Bernstein', 'Joel Carter', 'Andrew P. Garfield', 'David hassELHOFF']\n",
        "author.sort(key=lambda x: x.split()[-1].lower())\n",
        "print(author)\n"
      ]
    },
    {
      "attachments": {},
      "cell_type": "markdown",
      "metadata": {
        "id": "M_fIpVQg_Mvu"
      },
      "source": [
        "### Exercise #3 <br>\n",
        "<p>Convert the list below from Celsius to Farhenheit, using the map function with a lambda...</p>\n",
        "\n",
        "`Output: [('Nashua', 89.6), ('Boston', 53.6), ('Los Angelos', 111.2), ('Miami', 84.2)]\n",
        "`"
      ]
    },
    {
      "cell_type": "code",
      "execution_count": 181,
      "metadata": {
        "id": "8Ro4CSOD_Mvu"
      },
      "outputs": [
        {
          "name": "stdout",
          "output_type": "stream",
          "text": [
            "[('Nashua', 89.6), ('Boston', 53.6), ('Los Angeles', 111.2), ('Miami', 84.2)]\n"
          ]
        }
      ],
      "source": [
        "# F = (9/5)*C + 32\n",
        "my_list = [('Nashua', 32), ('Boston', 12), ('Los Angeles', 44), ('Miami', 29)]\n",
        "converted_list = list(map(lambda x: (x[0], (x[1] * 9/5) + 32), my_list))\n",
        "print(converted_list)\n"
      ]
    },
    {
      "attachments": {},
      "cell_type": "markdown",
      "metadata": {
        "id": "uoQyjMFz_Mvv"
      },
      "source": [
        "### Exercise #4 <br>\n",
        "<p>Write a recursion function to perform the fibonacci sequence up to the number passed in.</p>\n",
        "\n",
        "`Output for fib(5) => \n",
        "Iteration 0: 1\n",
        "Iteration 1: 1\n",
        "Iteration 2: 2\n",
        "Iteration 3: 3\n",
        "Iteration 4: 5\n",
        "Iteration 5: 8`"
      ]
    },
    {
      "cell_type": "code",
      "execution_count": 183,
      "metadata": {
        "id": "4WlF3yVZ_Mvv",
        "scrolled": true
      },
      "outputs": [
        {
          "name": "stdout",
          "output_type": "stream",
          "text": [
            "Iteration 0: 1\n",
            "Iteration 1: 1\n",
            "Iteration 2: 2\n",
            "Iteration 3: 3\n",
            "Iteration 4: 5\n",
            "Iteration 5: 8\n"
          ]
        }
      ],
      "source": [
        "def fib(num):\n",
        "    if num == 0 or num == 1:\n",
        "        return 1\n",
        "    else:\n",
        "        return fib(num-1) + fib(num-2)\n",
        "\n",
        "for i in range(6):\n",
        "    print(f\"Iteration {i}: {fib(i)}\")\n"
      ]
    }
  ],
  "metadata": {
    "colab": {
      "provenance": []
    },
    "kernelspec": {
      "display_name": "Python 3",
      "language": "python",
      "name": "python3"
    },
    "language_info": {
      "codemirror_mode": {
        "name": "ipython",
        "version": 3
      },
      "file_extension": ".py",
      "mimetype": "text/x-python",
      "name": "python",
      "nbconvert_exporter": "python",
      "pygments_lexer": "ipython3",
      "version": "3.11.3"
    },
    "vscode": {
      "interpreter": {
        "hash": "26de051ba29f2982a8de78e945f0abaf191376122a1563185a90213a26c5da77"
      }
    }
  },
  "nbformat": 4,
  "nbformat_minor": 0
}
