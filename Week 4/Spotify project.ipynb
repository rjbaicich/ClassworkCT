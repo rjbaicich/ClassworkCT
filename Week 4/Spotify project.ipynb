{
 "cells": [
  {
   "attachments": {},
   "cell_type": "markdown",
   "metadata": {},
   "source": [
    "# Weekend Project:Spotify API Analysis."
   ]
  },
  {
   "attachments": {},
   "cell_type": "markdown",
   "metadata": {},
   "source": [
    "# *Task 1*"
   ]
  },
  {
   "attachments": {},
   "cell_type": "markdown",
   "metadata": {},
   "source": [
    "#### *Make your necessary imports.*"
   ]
  },
  {
   "cell_type": "code",
   "execution_count": 125,
   "metadata": {},
   "outputs": [],
   "source": [
    "import requests\n",
    "import pandas as pd\n",
    "import plotly_express as px\n",
    "import json\n",
    "import base64\n",
    "import spotipy \n",
    "from spotipy.oauth2 import SpotifyOAuth\n",
    "from spotipy import util\n"
   ]
  },
  {
   "attachments": {},
   "cell_type": "markdown",
   "metadata": {},
   "source": [
    "#### *Request Access and Save Token.*"
   ]
  },
  {
   "cell_type": "code",
   "execution_count": 126,
   "metadata": {},
   "outputs": [],
   "source": [
    "client_id = '2ca6d814890b479790b42a33a95bed59'\n",
    "client_secret = '30de712fa2ed4a01b219bcabd21ea2c4' \n",
    "redirect = 'http://localhost/'\n",
    "\n",
    "client_creds = f'{client_id}:{client_secret}'\n",
    "client_creds.encode()\n",
    "client_creds_b64 = base64.b64encode(client_creds.encode())\n",
    "\n",
    "token_url = \"https://accounts.spotify.com/api/token\"\n",
    "method = \"POST\"\n",
    "token_data = {\n",
    "    \"grant_type\": \"client_credentials\"\n",
    "}\n",
    "token_headers = {\n",
    "    \"Authorization\": f\"Basic {client_creds_b64.decode()}\"\n",
    "}"
   ]
  },
  {
   "cell_type": "code",
   "execution_count": 127,
   "metadata": {},
   "outputs": [
    {
     "name": "stdout",
     "output_type": "stream",
     "text": [
      "{'access_token': 'BQCTl47uf_GbXc-5D4-INR3iVNhPealh9kIJrfJ-_XnSneC5SfCGyvWlxtrR6-JJ9Y2yI0ZmAIZ8aNmWCTgzVKmpitaPLW1owgccIiYaresDUokOp1Y', 'token_type': 'Bearer', 'expires_in': 3600}\n"
     ]
    }
   ],
   "source": [
    "r = requests.post(token_url, data=token_data, headers=token_headers)\n",
    "print(r.json())\n",
    "def get_auth_header(token):\n",
    "    return {\"Authorization\": \"Bearer \" + token }"
   ]
  },
  {
   "attachments": {},
   "cell_type": "markdown",
   "metadata": {},
   "source": [
    "## *Task 2*"
   ]
  },
  {
   "attachments": {},
   "cell_type": "markdown",
   "metadata": {},
   "source": [
    "#### *Connect to the API and use it to return back your own liked songs.*\n",
    "#### *Using your liked songs, return the audio features API object for each song in your liked songs playlist.*\n",
    "#### *Create a dataframe of the audio features of each song.*\n"
   ]
  },
  {
   "cell_type": "code",
   "execution_count": 128,
   "metadata": {},
   "outputs": [
    {
     "data": {
      "text/html": [
       "<div>\n",
       "<style scoped>\n",
       "    .dataframe tbody tr th:only-of-type {\n",
       "        vertical-align: middle;\n",
       "    }\n",
       "\n",
       "    .dataframe tbody tr th {\n",
       "        vertical-align: top;\n",
       "    }\n",
       "\n",
       "    .dataframe thead th {\n",
       "        text-align: right;\n",
       "    }\n",
       "</style>\n",
       "<table border=\"1\" class=\"dataframe\">\n",
       "  <thead>\n",
       "    <tr style=\"text-align: right;\">\n",
       "      <th></th>\n",
       "      <th>Track Name</th>\n",
       "      <th>Artist</th>\n",
       "      <th>Danceability</th>\n",
       "    </tr>\n",
       "  </thead>\n",
       "  <tbody>\n",
       "    <tr>\n",
       "      <th>0</th>\n",
       "      <td>High In California</td>\n",
       "      <td>Louis Tomlinson</td>\n",
       "      <td>0.700</td>\n",
       "    </tr>\n",
       "    <tr>\n",
       "      <th>1</th>\n",
       "      <td>On The Boat Again</td>\n",
       "      <td>Jake Owen</td>\n",
       "      <td>0.530</td>\n",
       "    </tr>\n",
       "    <tr>\n",
       "      <th>2</th>\n",
       "      <td>Happy People (with Teddy Swims &amp; Jac Ross)</td>\n",
       "      <td>X Ambassadors</td>\n",
       "      <td>0.244</td>\n",
       "    </tr>\n",
       "    <tr>\n",
       "      <th>3</th>\n",
       "      <td>Queen of New York City</td>\n",
       "      <td>Matchbox Twenty</td>\n",
       "      <td>0.561</td>\n",
       "    </tr>\n",
       "    <tr>\n",
       "      <th>4</th>\n",
       "      <td>ONE NATION UNDERDOGS</td>\n",
       "      <td>Royal &amp; the Serpent</td>\n",
       "      <td>0.539</td>\n",
       "    </tr>\n",
       "    <tr>\n",
       "      <th>5</th>\n",
       "      <td>Ion Need</td>\n",
       "      <td>Big Boss Vette</td>\n",
       "      <td>0.851</td>\n",
       "    </tr>\n",
       "    <tr>\n",
       "      <th>6</th>\n",
       "      <td>Turn The Streets Up</td>\n",
       "      <td>EST Gee</td>\n",
       "      <td>0.727</td>\n",
       "    </tr>\n",
       "    <tr>\n",
       "      <th>7</th>\n",
       "      <td>Easter Pink</td>\n",
       "      <td>$NOT</td>\n",
       "      <td>0.708</td>\n",
       "    </tr>\n",
       "    <tr>\n",
       "      <th>8</th>\n",
       "      <td>Elohim</td>\n",
       "      <td>Sondae</td>\n",
       "      <td>0.790</td>\n",
       "    </tr>\n",
       "    <tr>\n",
       "      <th>9</th>\n",
       "      <td>Columbo</td>\n",
       "      <td>Bruno Major</td>\n",
       "      <td>0.469</td>\n",
       "    </tr>\n",
       "    <tr>\n",
       "      <th>10</th>\n",
       "      <td>Voyage</td>\n",
       "      <td>James Fortune</td>\n",
       "      <td>0.715</td>\n",
       "    </tr>\n",
       "    <tr>\n",
       "      <th>11</th>\n",
       "      <td>tqum</td>\n",
       "      <td>Sofía Reyes</td>\n",
       "      <td>0.786</td>\n",
       "    </tr>\n",
       "    <tr>\n",
       "      <th>12</th>\n",
       "      <td>Dominoes</td>\n",
       "      <td>Jungle</td>\n",
       "      <td>0.689</td>\n",
       "    </tr>\n",
       "    <tr>\n",
       "      <th>13</th>\n",
       "      <td>Summer of Luv (feat. Unknown Mortal Orchestra)</td>\n",
       "      <td>Portugal. The Man</td>\n",
       "      <td>0.633</td>\n",
       "    </tr>\n",
       "    <tr>\n",
       "      <th>14</th>\n",
       "      <td>Wolves (feat. Ty Dolla $ign &amp; Russ)</td>\n",
       "      <td>Lauren Jauregui</td>\n",
       "      <td>0.354</td>\n",
       "    </tr>\n",
       "    <tr>\n",
       "      <th>15</th>\n",
       "      <td>Cocoa</td>\n",
       "      <td>Kevin Ross</td>\n",
       "      <td>0.574</td>\n",
       "    </tr>\n",
       "    <tr>\n",
       "      <th>16</th>\n",
       "      <td>you don't love me anymore</td>\n",
       "      <td>Cat Burns</td>\n",
       "      <td>0.550</td>\n",
       "    </tr>\n",
       "    <tr>\n",
       "      <th>17</th>\n",
       "      <td>Night Life - (Hot Country Artists to Watch) - ...</td>\n",
       "      <td>ERNEST</td>\n",
       "      <td>0.502</td>\n",
       "    </tr>\n",
       "    <tr>\n",
       "      <th>18</th>\n",
       "      <td>Girl from the North Country - (Hot Country Art...</td>\n",
       "      <td>Jackson Dean</td>\n",
       "      <td>0.556</td>\n",
       "    </tr>\n",
       "    <tr>\n",
       "      <th>19</th>\n",
       "      <td>Shortstop</td>\n",
       "      <td>Miya Folick</td>\n",
       "      <td>0.646</td>\n",
       "    </tr>\n",
       "  </tbody>\n",
       "</table>\n",
       "</div>"
      ],
      "text/plain": [
       "                                           Track Name               Artist   \n",
       "0                                  High In California      Louis Tomlinson  \\\n",
       "1                                   On The Boat Again            Jake Owen   \n",
       "2          Happy People (with Teddy Swims & Jac Ross)        X Ambassadors   \n",
       "3                              Queen of New York City      Matchbox Twenty   \n",
       "4                                ONE NATION UNDERDOGS  Royal & the Serpent   \n",
       "5                                            Ion Need       Big Boss Vette   \n",
       "6                                 Turn The Streets Up              EST Gee   \n",
       "7                                         Easter Pink                 $NOT   \n",
       "8                                              Elohim               Sondae   \n",
       "9                                             Columbo          Bruno Major   \n",
       "10                                             Voyage        James Fortune   \n",
       "11                                               tqum          Sofía Reyes   \n",
       "12                                           Dominoes               Jungle   \n",
       "13     Summer of Luv (feat. Unknown Mortal Orchestra)    Portugal. The Man   \n",
       "14                Wolves (feat. Ty Dolla $ign & Russ)      Lauren Jauregui   \n",
       "15                                              Cocoa           Kevin Ross   \n",
       "16                          you don't love me anymore            Cat Burns   \n",
       "17  Night Life - (Hot Country Artists to Watch) - ...               ERNEST   \n",
       "18  Girl from the North Country - (Hot Country Art...         Jackson Dean   \n",
       "19                                          Shortstop          Miya Folick   \n",
       "\n",
       "    Danceability  \n",
       "0          0.700  \n",
       "1          0.530  \n",
       "2          0.244  \n",
       "3          0.561  \n",
       "4          0.539  \n",
       "5          0.851  \n",
       "6          0.727  \n",
       "7          0.708  \n",
       "8          0.790  \n",
       "9          0.469  \n",
       "10         0.715  \n",
       "11         0.786  \n",
       "12         0.689  \n",
       "13         0.633  \n",
       "14         0.354  \n",
       "15         0.574  \n",
       "16         0.550  \n",
       "17         0.502  \n",
       "18         0.556  \n",
       "19         0.646  "
      ]
     },
     "metadata": {},
     "output_type": "display_data"
    },
    {
     "data": {
      "text/html": [
       "<div>\n",
       "<style scoped>\n",
       "    .dataframe tbody tr th:only-of-type {\n",
       "        vertical-align: middle;\n",
       "    }\n",
       "\n",
       "    .dataframe tbody tr th {\n",
       "        vertical-align: top;\n",
       "    }\n",
       "\n",
       "    .dataframe thead th {\n",
       "        text-align: right;\n",
       "    }\n",
       "</style>\n",
       "<table border=\"1\" class=\"dataframe\">\n",
       "  <thead>\n",
       "    <tr style=\"text-align: right;\">\n",
       "      <th></th>\n",
       "      <th>danceability</th>\n",
       "      <th>energy</th>\n",
       "      <th>key</th>\n",
       "      <th>loudness</th>\n",
       "      <th>mode</th>\n",
       "      <th>speechiness</th>\n",
       "      <th>acousticness</th>\n",
       "      <th>instrumentalness</th>\n",
       "      <th>liveness</th>\n",
       "      <th>valence</th>\n",
       "      <th>tempo</th>\n",
       "      <th>type</th>\n",
       "      <th>id</th>\n",
       "      <th>uri</th>\n",
       "      <th>track_href</th>\n",
       "      <th>analysis_url</th>\n",
       "      <th>duration_ms</th>\n",
       "      <th>time_signature</th>\n",
       "    </tr>\n",
       "  </thead>\n",
       "  <tbody>\n",
       "    <tr>\n",
       "      <th>0</th>\n",
       "      <td>0.700</td>\n",
       "      <td>0.490</td>\n",
       "      <td>3</td>\n",
       "      <td>-10.575</td>\n",
       "      <td>0</td>\n",
       "      <td>0.0447</td>\n",
       "      <td>0.219000</td>\n",
       "      <td>0.000311</td>\n",
       "      <td>0.2510</td>\n",
       "      <td>0.750</td>\n",
       "      <td>132.982</td>\n",
       "      <td>audio_features</td>\n",
       "      <td>4arF67s3pUxVFuMlMLrJc3</td>\n",
       "      <td>spotify:track:4arF67s3pUxVFuMlMLrJc3</td>\n",
       "      <td>https://api.spotify.com/v1/tracks/4arF67s3pUxV...</td>\n",
       "      <td>https://api.spotify.com/v1/audio-analysis/4arF...</td>\n",
       "      <td>184308</td>\n",
       "      <td>4</td>\n",
       "    </tr>\n",
       "    <tr>\n",
       "      <th>1</th>\n",
       "      <td>0.530</td>\n",
       "      <td>0.909</td>\n",
       "      <td>7</td>\n",
       "      <td>-5.024</td>\n",
       "      <td>1</td>\n",
       "      <td>0.1120</td>\n",
       "      <td>0.061800</td>\n",
       "      <td>0.000000</td>\n",
       "      <td>0.3650</td>\n",
       "      <td>0.689</td>\n",
       "      <td>188.032</td>\n",
       "      <td>audio_features</td>\n",
       "      <td>1p89WMVway1cURWyvmE09k</td>\n",
       "      <td>spotify:track:1p89WMVway1cURWyvmE09k</td>\n",
       "      <td>https://api.spotify.com/v1/tracks/1p89WMVway1c...</td>\n",
       "      <td>https://api.spotify.com/v1/audio-analysis/1p89...</td>\n",
       "      <td>174818</td>\n",
       "      <td>4</td>\n",
       "    </tr>\n",
       "    <tr>\n",
       "      <th>2</th>\n",
       "      <td>0.244</td>\n",
       "      <td>0.623</td>\n",
       "      <td>5</td>\n",
       "      <td>-5.500</td>\n",
       "      <td>1</td>\n",
       "      <td>0.0315</td>\n",
       "      <td>0.078800</td>\n",
       "      <td>0.000000</td>\n",
       "      <td>0.1190</td>\n",
       "      <td>0.325</td>\n",
       "      <td>77.506</td>\n",
       "      <td>audio_features</td>\n",
       "      <td>5lujBnGhaV4zgazZ6A8S5g</td>\n",
       "      <td>spotify:track:5lujBnGhaV4zgazZ6A8S5g</td>\n",
       "      <td>https://api.spotify.com/v1/tracks/5lujBnGhaV4z...</td>\n",
       "      <td>https://api.spotify.com/v1/audio-analysis/5luj...</td>\n",
       "      <td>295000</td>\n",
       "      <td>3</td>\n",
       "    </tr>\n",
       "    <tr>\n",
       "      <th>3</th>\n",
       "      <td>0.561</td>\n",
       "      <td>0.709</td>\n",
       "      <td>7</td>\n",
       "      <td>-7.527</td>\n",
       "      <td>1</td>\n",
       "      <td>0.0594</td>\n",
       "      <td>0.281000</td>\n",
       "      <td>0.000000</td>\n",
       "      <td>0.1250</td>\n",
       "      <td>0.545</td>\n",
       "      <td>87.022</td>\n",
       "      <td>audio_features</td>\n",
       "      <td>6GN1unKvg3uyOBj2dCV41D</td>\n",
       "      <td>spotify:track:6GN1unKvg3uyOBj2dCV41D</td>\n",
       "      <td>https://api.spotify.com/v1/tracks/6GN1unKvg3uy...</td>\n",
       "      <td>https://api.spotify.com/v1/audio-analysis/6GN1...</td>\n",
       "      <td>212649</td>\n",
       "      <td>4</td>\n",
       "    </tr>\n",
       "    <tr>\n",
       "      <th>4</th>\n",
       "      <td>0.539</td>\n",
       "      <td>0.977</td>\n",
       "      <td>6</td>\n",
       "      <td>-2.556</td>\n",
       "      <td>0</td>\n",
       "      <td>0.2180</td>\n",
       "      <td>0.000431</td>\n",
       "      <td>0.000000</td>\n",
       "      <td>0.3560</td>\n",
       "      <td>0.480</td>\n",
       "      <td>122.046</td>\n",
       "      <td>audio_features</td>\n",
       "      <td>0rlcL9H8ZJUEDQ3N0tmTZf</td>\n",
       "      <td>spotify:track:0rlcL9H8ZJUEDQ3N0tmTZf</td>\n",
       "      <td>https://api.spotify.com/v1/tracks/0rlcL9H8ZJUE...</td>\n",
       "      <td>https://api.spotify.com/v1/audio-analysis/0rlc...</td>\n",
       "      <td>212459</td>\n",
       "      <td>4</td>\n",
       "    </tr>\n",
       "    <tr>\n",
       "      <th>5</th>\n",
       "      <td>0.851</td>\n",
       "      <td>0.735</td>\n",
       "      <td>6</td>\n",
       "      <td>-4.868</td>\n",
       "      <td>0</td>\n",
       "      <td>0.2880</td>\n",
       "      <td>0.034200</td>\n",
       "      <td>0.000287</td>\n",
       "      <td>0.0718</td>\n",
       "      <td>0.514</td>\n",
       "      <td>178.020</td>\n",
       "      <td>audio_features</td>\n",
       "      <td>03ZoOMBPSsRQZcu7077PcR</td>\n",
       "      <td>spotify:track:03ZoOMBPSsRQZcu7077PcR</td>\n",
       "      <td>https://api.spotify.com/v1/tracks/03ZoOMBPSsRQ...</td>\n",
       "      <td>https://api.spotify.com/v1/audio-analysis/03Zo...</td>\n",
       "      <td>217246</td>\n",
       "      <td>4</td>\n",
       "    </tr>\n",
       "    <tr>\n",
       "      <th>6</th>\n",
       "      <td>0.727</td>\n",
       "      <td>0.682</td>\n",
       "      <td>11</td>\n",
       "      <td>-6.315</td>\n",
       "      <td>0</td>\n",
       "      <td>0.2870</td>\n",
       "      <td>0.120000</td>\n",
       "      <td>0.000000</td>\n",
       "      <td>0.1280</td>\n",
       "      <td>0.527</td>\n",
       "      <td>83.529</td>\n",
       "      <td>audio_features</td>\n",
       "      <td>3irk5ecKiBYSIB0350rH87</td>\n",
       "      <td>spotify:track:3irk5ecKiBYSIB0350rH87</td>\n",
       "      <td>https://api.spotify.com/v1/tracks/3irk5ecKiBYS...</td>\n",
       "      <td>https://api.spotify.com/v1/audio-analysis/3irk...</td>\n",
       "      <td>162055</td>\n",
       "      <td>4</td>\n",
       "    </tr>\n",
       "    <tr>\n",
       "      <th>7</th>\n",
       "      <td>0.708</td>\n",
       "      <td>0.857</td>\n",
       "      <td>11</td>\n",
       "      <td>-8.783</td>\n",
       "      <td>0</td>\n",
       "      <td>0.3310</td>\n",
       "      <td>0.031500</td>\n",
       "      <td>0.000082</td>\n",
       "      <td>0.1230</td>\n",
       "      <td>0.231</td>\n",
       "      <td>81.517</td>\n",
       "      <td>audio_features</td>\n",
       "      <td>4GSOrzdPw00JS2aB2dAkSi</td>\n",
       "      <td>spotify:track:4GSOrzdPw00JS2aB2dAkSi</td>\n",
       "      <td>https://api.spotify.com/v1/tracks/4GSOrzdPw00J...</td>\n",
       "      <td>https://api.spotify.com/v1/audio-analysis/4GSO...</td>\n",
       "      <td>154074</td>\n",
       "      <td>4</td>\n",
       "    </tr>\n",
       "    <tr>\n",
       "      <th>8</th>\n",
       "      <td>0.790</td>\n",
       "      <td>0.762</td>\n",
       "      <td>5</td>\n",
       "      <td>-6.537</td>\n",
       "      <td>0</td>\n",
       "      <td>0.0812</td>\n",
       "      <td>0.309000</td>\n",
       "      <td>0.000158</td>\n",
       "      <td>0.1470</td>\n",
       "      <td>0.713</td>\n",
       "      <td>123.984</td>\n",
       "      <td>audio_features</td>\n",
       "      <td>5Q4JduIFVtirezPnU9RggG</td>\n",
       "      <td>spotify:track:5Q4JduIFVtirezPnU9RggG</td>\n",
       "      <td>https://api.spotify.com/v1/tracks/5Q4JduIFVtir...</td>\n",
       "      <td>https://api.spotify.com/v1/audio-analysis/5Q4J...</td>\n",
       "      <td>170323</td>\n",
       "      <td>4</td>\n",
       "    </tr>\n",
       "    <tr>\n",
       "      <th>9</th>\n",
       "      <td>0.469</td>\n",
       "      <td>0.324</td>\n",
       "      <td>8</td>\n",
       "      <td>-13.649</td>\n",
       "      <td>1</td>\n",
       "      <td>0.0449</td>\n",
       "      <td>0.955000</td>\n",
       "      <td>0.000106</td>\n",
       "      <td>0.1500</td>\n",
       "      <td>0.334</td>\n",
       "      <td>92.807</td>\n",
       "      <td>audio_features</td>\n",
       "      <td>0y26ehF7JqHVHqb2Fik0uG</td>\n",
       "      <td>spotify:track:0y26ehF7JqHVHqb2Fik0uG</td>\n",
       "      <td>https://api.spotify.com/v1/tracks/0y26ehF7JqHV...</td>\n",
       "      <td>https://api.spotify.com/v1/audio-analysis/0y26...</td>\n",
       "      <td>213317</td>\n",
       "      <td>4</td>\n",
       "    </tr>\n",
       "    <tr>\n",
       "      <th>10</th>\n",
       "      <td>0.715</td>\n",
       "      <td>0.771</td>\n",
       "      <td>6</td>\n",
       "      <td>-4.049</td>\n",
       "      <td>1</td>\n",
       "      <td>0.1340</td>\n",
       "      <td>0.171000</td>\n",
       "      <td>0.000054</td>\n",
       "      <td>0.1340</td>\n",
       "      <td>0.765</td>\n",
       "      <td>109.955</td>\n",
       "      <td>audio_features</td>\n",
       "      <td>5y2rF11oOl6bq8SYyxtGpc</td>\n",
       "      <td>spotify:track:5y2rF11oOl6bq8SYyxtGpc</td>\n",
       "      <td>https://api.spotify.com/v1/tracks/5y2rF11oOl6b...</td>\n",
       "      <td>https://api.spotify.com/v1/audio-analysis/5y2r...</td>\n",
       "      <td>208920</td>\n",
       "      <td>4</td>\n",
       "    </tr>\n",
       "    <tr>\n",
       "      <th>11</th>\n",
       "      <td>0.786</td>\n",
       "      <td>0.777</td>\n",
       "      <td>5</td>\n",
       "      <td>-4.915</td>\n",
       "      <td>0</td>\n",
       "      <td>0.0462</td>\n",
       "      <td>0.090700</td>\n",
       "      <td>0.028200</td>\n",
       "      <td>0.0724</td>\n",
       "      <td>0.468</td>\n",
       "      <td>132.071</td>\n",
       "      <td>audio_features</td>\n",
       "      <td>3zR2iyPKGtAVyvAYZH1YUr</td>\n",
       "      <td>spotify:track:3zR2iyPKGtAVyvAYZH1YUr</td>\n",
       "      <td>https://api.spotify.com/v1/tracks/3zR2iyPKGtAV...</td>\n",
       "      <td>https://api.spotify.com/v1/audio-analysis/3zR2...</td>\n",
       "      <td>149589</td>\n",
       "      <td>4</td>\n",
       "    </tr>\n",
       "    <tr>\n",
       "      <th>12</th>\n",
       "      <td>0.689</td>\n",
       "      <td>0.952</td>\n",
       "      <td>2</td>\n",
       "      <td>-5.249</td>\n",
       "      <td>0</td>\n",
       "      <td>0.1140</td>\n",
       "      <td>0.113000</td>\n",
       "      <td>0.780000</td>\n",
       "      <td>0.2980</td>\n",
       "      <td>0.415</td>\n",
       "      <td>107.978</td>\n",
       "      <td>audio_features</td>\n",
       "      <td>5EXtmeRbTiNT8UKfIuMez9</td>\n",
       "      <td>spotify:track:5EXtmeRbTiNT8UKfIuMez9</td>\n",
       "      <td>https://api.spotify.com/v1/tracks/5EXtmeRbTiNT...</td>\n",
       "      <td>https://api.spotify.com/v1/audio-analysis/5EXt...</td>\n",
       "      <td>177521</td>\n",
       "      <td>4</td>\n",
       "    </tr>\n",
       "    <tr>\n",
       "      <th>13</th>\n",
       "      <td>0.633</td>\n",
       "      <td>0.856</td>\n",
       "      <td>7</td>\n",
       "      <td>-4.660</td>\n",
       "      <td>0</td>\n",
       "      <td>0.0583</td>\n",
       "      <td>0.143000</td>\n",
       "      <td>0.008650</td>\n",
       "      <td>0.5940</td>\n",
       "      <td>0.892</td>\n",
       "      <td>76.006</td>\n",
       "      <td>audio_features</td>\n",
       "      <td>7tMYbJhP6N732MAglwmuJf</td>\n",
       "      <td>spotify:track:7tMYbJhP6N732MAglwmuJf</td>\n",
       "      <td>https://api.spotify.com/v1/tracks/7tMYbJhP6N73...</td>\n",
       "      <td>https://api.spotify.com/v1/audio-analysis/7tMY...</td>\n",
       "      <td>159242</td>\n",
       "      <td>4</td>\n",
       "    </tr>\n",
       "    <tr>\n",
       "      <th>14</th>\n",
       "      <td>0.354</td>\n",
       "      <td>0.723</td>\n",
       "      <td>5</td>\n",
       "      <td>-5.542</td>\n",
       "      <td>0</td>\n",
       "      <td>0.1250</td>\n",
       "      <td>0.036300</td>\n",
       "      <td>0.000000</td>\n",
       "      <td>0.0977</td>\n",
       "      <td>0.485</td>\n",
       "      <td>163.997</td>\n",
       "      <td>audio_features</td>\n",
       "      <td>5cUITXYU5uSPfv3T1K9FH3</td>\n",
       "      <td>spotify:track:5cUITXYU5uSPfv3T1K9FH3</td>\n",
       "      <td>https://api.spotify.com/v1/tracks/5cUITXYU5uSP...</td>\n",
       "      <td>https://api.spotify.com/v1/audio-analysis/5cUI...</td>\n",
       "      <td>231493</td>\n",
       "      <td>4</td>\n",
       "    </tr>\n",
       "    <tr>\n",
       "      <th>15</th>\n",
       "      <td>0.574</td>\n",
       "      <td>0.791</td>\n",
       "      <td>6</td>\n",
       "      <td>-6.103</td>\n",
       "      <td>0</td>\n",
       "      <td>0.0655</td>\n",
       "      <td>0.599000</td>\n",
       "      <td>0.006000</td>\n",
       "      <td>0.4450</td>\n",
       "      <td>0.796</td>\n",
       "      <td>84.889</td>\n",
       "      <td>audio_features</td>\n",
       "      <td>5z4UjNfc0s3mkAR1l8A1cb</td>\n",
       "      <td>spotify:track:5z4UjNfc0s3mkAR1l8A1cb</td>\n",
       "      <td>https://api.spotify.com/v1/tracks/5z4UjNfc0s3m...</td>\n",
       "      <td>https://api.spotify.com/v1/audio-analysis/5z4U...</td>\n",
       "      <td>125706</td>\n",
       "      <td>4</td>\n",
       "    </tr>\n",
       "    <tr>\n",
       "      <th>16</th>\n",
       "      <td>0.550</td>\n",
       "      <td>0.548</td>\n",
       "      <td>8</td>\n",
       "      <td>-6.826</td>\n",
       "      <td>1</td>\n",
       "      <td>0.0320</td>\n",
       "      <td>0.648000</td>\n",
       "      <td>0.000002</td>\n",
       "      <td>0.2490</td>\n",
       "      <td>0.428</td>\n",
       "      <td>82.008</td>\n",
       "      <td>audio_features</td>\n",
       "      <td>306BR5TD0UlriDlzObxvk9</td>\n",
       "      <td>spotify:track:306BR5TD0UlriDlzObxvk9</td>\n",
       "      <td>https://api.spotify.com/v1/tracks/306BR5TD0Ulr...</td>\n",
       "      <td>https://api.spotify.com/v1/audio-analysis/306B...</td>\n",
       "      <td>204399</td>\n",
       "      <td>4</td>\n",
       "    </tr>\n",
       "    <tr>\n",
       "      <th>17</th>\n",
       "      <td>0.502</td>\n",
       "      <td>0.578</td>\n",
       "      <td>0</td>\n",
       "      <td>-7.742</td>\n",
       "      <td>1</td>\n",
       "      <td>0.0317</td>\n",
       "      <td>0.643000</td>\n",
       "      <td>0.005640</td>\n",
       "      <td>0.1170</td>\n",
       "      <td>0.284</td>\n",
       "      <td>180.094</td>\n",
       "      <td>audio_features</td>\n",
       "      <td>6dJlulD7mTkgGyFnKTLM3N</td>\n",
       "      <td>spotify:track:6dJlulD7mTkgGyFnKTLM3N</td>\n",
       "      <td>https://api.spotify.com/v1/tracks/6dJlulD7mTkg...</td>\n",
       "      <td>https://api.spotify.com/v1/audio-analysis/6dJl...</td>\n",
       "      <td>269382</td>\n",
       "      <td>3</td>\n",
       "    </tr>\n",
       "    <tr>\n",
       "      <th>18</th>\n",
       "      <td>0.556</td>\n",
       "      <td>0.410</td>\n",
       "      <td>10</td>\n",
       "      <td>-12.170</td>\n",
       "      <td>1</td>\n",
       "      <td>0.0284</td>\n",
       "      <td>0.766000</td>\n",
       "      <td>0.000745</td>\n",
       "      <td>0.0908</td>\n",
       "      <td>0.224</td>\n",
       "      <td>89.972</td>\n",
       "      <td>audio_features</td>\n",
       "      <td>7xQHkdNrmdGb5kh56MSoRr</td>\n",
       "      <td>spotify:track:7xQHkdNrmdGb5kh56MSoRr</td>\n",
       "      <td>https://api.spotify.com/v1/tracks/7xQHkdNrmdGb...</td>\n",
       "      <td>https://api.spotify.com/v1/audio-analysis/7xQH...</td>\n",
       "      <td>233415</td>\n",
       "      <td>4</td>\n",
       "    </tr>\n",
       "    <tr>\n",
       "      <th>19</th>\n",
       "      <td>0.646</td>\n",
       "      <td>0.337</td>\n",
       "      <td>6</td>\n",
       "      <td>-10.371</td>\n",
       "      <td>1</td>\n",
       "      <td>0.0356</td>\n",
       "      <td>0.381000</td>\n",
       "      <td>0.000004</td>\n",
       "      <td>0.0914</td>\n",
       "      <td>0.185</td>\n",
       "      <td>117.938</td>\n",
       "      <td>audio_features</td>\n",
       "      <td>6NdmT2the0cqnj8ot18ryX</td>\n",
       "      <td>spotify:track:6NdmT2the0cqnj8ot18ryX</td>\n",
       "      <td>https://api.spotify.com/v1/tracks/6NdmT2the0cq...</td>\n",
       "      <td>https://api.spotify.com/v1/audio-analysis/6Ndm...</td>\n",
       "      <td>200159</td>\n",
       "      <td>4</td>\n",
       "    </tr>\n",
       "  </tbody>\n",
       "</table>\n",
       "</div>"
      ],
      "text/plain": [
       "    danceability  energy  key  loudness  mode  speechiness  acousticness   \n",
       "0          0.700   0.490    3   -10.575     0       0.0447      0.219000  \\\n",
       "1          0.530   0.909    7    -5.024     1       0.1120      0.061800   \n",
       "2          0.244   0.623    5    -5.500     1       0.0315      0.078800   \n",
       "3          0.561   0.709    7    -7.527     1       0.0594      0.281000   \n",
       "4          0.539   0.977    6    -2.556     0       0.2180      0.000431   \n",
       "5          0.851   0.735    6    -4.868     0       0.2880      0.034200   \n",
       "6          0.727   0.682   11    -6.315     0       0.2870      0.120000   \n",
       "7          0.708   0.857   11    -8.783     0       0.3310      0.031500   \n",
       "8          0.790   0.762    5    -6.537     0       0.0812      0.309000   \n",
       "9          0.469   0.324    8   -13.649     1       0.0449      0.955000   \n",
       "10         0.715   0.771    6    -4.049     1       0.1340      0.171000   \n",
       "11         0.786   0.777    5    -4.915     0       0.0462      0.090700   \n",
       "12         0.689   0.952    2    -5.249     0       0.1140      0.113000   \n",
       "13         0.633   0.856    7    -4.660     0       0.0583      0.143000   \n",
       "14         0.354   0.723    5    -5.542     0       0.1250      0.036300   \n",
       "15         0.574   0.791    6    -6.103     0       0.0655      0.599000   \n",
       "16         0.550   0.548    8    -6.826     1       0.0320      0.648000   \n",
       "17         0.502   0.578    0    -7.742     1       0.0317      0.643000   \n",
       "18         0.556   0.410   10   -12.170     1       0.0284      0.766000   \n",
       "19         0.646   0.337    6   -10.371     1       0.0356      0.381000   \n",
       "\n",
       "    instrumentalness  liveness  valence    tempo            type   \n",
       "0           0.000311    0.2510    0.750  132.982  audio_features  \\\n",
       "1           0.000000    0.3650    0.689  188.032  audio_features   \n",
       "2           0.000000    0.1190    0.325   77.506  audio_features   \n",
       "3           0.000000    0.1250    0.545   87.022  audio_features   \n",
       "4           0.000000    0.3560    0.480  122.046  audio_features   \n",
       "5           0.000287    0.0718    0.514  178.020  audio_features   \n",
       "6           0.000000    0.1280    0.527   83.529  audio_features   \n",
       "7           0.000082    0.1230    0.231   81.517  audio_features   \n",
       "8           0.000158    0.1470    0.713  123.984  audio_features   \n",
       "9           0.000106    0.1500    0.334   92.807  audio_features   \n",
       "10          0.000054    0.1340    0.765  109.955  audio_features   \n",
       "11          0.028200    0.0724    0.468  132.071  audio_features   \n",
       "12          0.780000    0.2980    0.415  107.978  audio_features   \n",
       "13          0.008650    0.5940    0.892   76.006  audio_features   \n",
       "14          0.000000    0.0977    0.485  163.997  audio_features   \n",
       "15          0.006000    0.4450    0.796   84.889  audio_features   \n",
       "16          0.000002    0.2490    0.428   82.008  audio_features   \n",
       "17          0.005640    0.1170    0.284  180.094  audio_features   \n",
       "18          0.000745    0.0908    0.224   89.972  audio_features   \n",
       "19          0.000004    0.0914    0.185  117.938  audio_features   \n",
       "\n",
       "                        id                                   uri   \n",
       "0   4arF67s3pUxVFuMlMLrJc3  spotify:track:4arF67s3pUxVFuMlMLrJc3  \\\n",
       "1   1p89WMVway1cURWyvmE09k  spotify:track:1p89WMVway1cURWyvmE09k   \n",
       "2   5lujBnGhaV4zgazZ6A8S5g  spotify:track:5lujBnGhaV4zgazZ6A8S5g   \n",
       "3   6GN1unKvg3uyOBj2dCV41D  spotify:track:6GN1unKvg3uyOBj2dCV41D   \n",
       "4   0rlcL9H8ZJUEDQ3N0tmTZf  spotify:track:0rlcL9H8ZJUEDQ3N0tmTZf   \n",
       "5   03ZoOMBPSsRQZcu7077PcR  spotify:track:03ZoOMBPSsRQZcu7077PcR   \n",
       "6   3irk5ecKiBYSIB0350rH87  spotify:track:3irk5ecKiBYSIB0350rH87   \n",
       "7   4GSOrzdPw00JS2aB2dAkSi  spotify:track:4GSOrzdPw00JS2aB2dAkSi   \n",
       "8   5Q4JduIFVtirezPnU9RggG  spotify:track:5Q4JduIFVtirezPnU9RggG   \n",
       "9   0y26ehF7JqHVHqb2Fik0uG  spotify:track:0y26ehF7JqHVHqb2Fik0uG   \n",
       "10  5y2rF11oOl6bq8SYyxtGpc  spotify:track:5y2rF11oOl6bq8SYyxtGpc   \n",
       "11  3zR2iyPKGtAVyvAYZH1YUr  spotify:track:3zR2iyPKGtAVyvAYZH1YUr   \n",
       "12  5EXtmeRbTiNT8UKfIuMez9  spotify:track:5EXtmeRbTiNT8UKfIuMez9   \n",
       "13  7tMYbJhP6N732MAglwmuJf  spotify:track:7tMYbJhP6N732MAglwmuJf   \n",
       "14  5cUITXYU5uSPfv3T1K9FH3  spotify:track:5cUITXYU5uSPfv3T1K9FH3   \n",
       "15  5z4UjNfc0s3mkAR1l8A1cb  spotify:track:5z4UjNfc0s3mkAR1l8A1cb   \n",
       "16  306BR5TD0UlriDlzObxvk9  spotify:track:306BR5TD0UlriDlzObxvk9   \n",
       "17  6dJlulD7mTkgGyFnKTLM3N  spotify:track:6dJlulD7mTkgGyFnKTLM3N   \n",
       "18  7xQHkdNrmdGb5kh56MSoRr  spotify:track:7xQHkdNrmdGb5kh56MSoRr   \n",
       "19  6NdmT2the0cqnj8ot18ryX  spotify:track:6NdmT2the0cqnj8ot18ryX   \n",
       "\n",
       "                                           track_href   \n",
       "0   https://api.spotify.com/v1/tracks/4arF67s3pUxV...  \\\n",
       "1   https://api.spotify.com/v1/tracks/1p89WMVway1c...   \n",
       "2   https://api.spotify.com/v1/tracks/5lujBnGhaV4z...   \n",
       "3   https://api.spotify.com/v1/tracks/6GN1unKvg3uy...   \n",
       "4   https://api.spotify.com/v1/tracks/0rlcL9H8ZJUE...   \n",
       "5   https://api.spotify.com/v1/tracks/03ZoOMBPSsRQ...   \n",
       "6   https://api.spotify.com/v1/tracks/3irk5ecKiBYS...   \n",
       "7   https://api.spotify.com/v1/tracks/4GSOrzdPw00J...   \n",
       "8   https://api.spotify.com/v1/tracks/5Q4JduIFVtir...   \n",
       "9   https://api.spotify.com/v1/tracks/0y26ehF7JqHV...   \n",
       "10  https://api.spotify.com/v1/tracks/5y2rF11oOl6b...   \n",
       "11  https://api.spotify.com/v1/tracks/3zR2iyPKGtAV...   \n",
       "12  https://api.spotify.com/v1/tracks/5EXtmeRbTiNT...   \n",
       "13  https://api.spotify.com/v1/tracks/7tMYbJhP6N73...   \n",
       "14  https://api.spotify.com/v1/tracks/5cUITXYU5uSP...   \n",
       "15  https://api.spotify.com/v1/tracks/5z4UjNfc0s3m...   \n",
       "16  https://api.spotify.com/v1/tracks/306BR5TD0Ulr...   \n",
       "17  https://api.spotify.com/v1/tracks/6dJlulD7mTkg...   \n",
       "18  https://api.spotify.com/v1/tracks/7xQHkdNrmdGb...   \n",
       "19  https://api.spotify.com/v1/tracks/6NdmT2the0cq...   \n",
       "\n",
       "                                         analysis_url  duration_ms   \n",
       "0   https://api.spotify.com/v1/audio-analysis/4arF...       184308  \\\n",
       "1   https://api.spotify.com/v1/audio-analysis/1p89...       174818   \n",
       "2   https://api.spotify.com/v1/audio-analysis/5luj...       295000   \n",
       "3   https://api.spotify.com/v1/audio-analysis/6GN1...       212649   \n",
       "4   https://api.spotify.com/v1/audio-analysis/0rlc...       212459   \n",
       "5   https://api.spotify.com/v1/audio-analysis/03Zo...       217246   \n",
       "6   https://api.spotify.com/v1/audio-analysis/3irk...       162055   \n",
       "7   https://api.spotify.com/v1/audio-analysis/4GSO...       154074   \n",
       "8   https://api.spotify.com/v1/audio-analysis/5Q4J...       170323   \n",
       "9   https://api.spotify.com/v1/audio-analysis/0y26...       213317   \n",
       "10  https://api.spotify.com/v1/audio-analysis/5y2r...       208920   \n",
       "11  https://api.spotify.com/v1/audio-analysis/3zR2...       149589   \n",
       "12  https://api.spotify.com/v1/audio-analysis/5EXt...       177521   \n",
       "13  https://api.spotify.com/v1/audio-analysis/7tMY...       159242   \n",
       "14  https://api.spotify.com/v1/audio-analysis/5cUI...       231493   \n",
       "15  https://api.spotify.com/v1/audio-analysis/5z4U...       125706   \n",
       "16  https://api.spotify.com/v1/audio-analysis/306B...       204399   \n",
       "17  https://api.spotify.com/v1/audio-analysis/6dJl...       269382   \n",
       "18  https://api.spotify.com/v1/audio-analysis/7xQH...       233415   \n",
       "19  https://api.spotify.com/v1/audio-analysis/6Ndm...       200159   \n",
       "\n",
       "    time_signature  \n",
       "0                4  \n",
       "1                4  \n",
       "2                3  \n",
       "3                4  \n",
       "4                4  \n",
       "5                4  \n",
       "6                4  \n",
       "7                4  \n",
       "8                4  \n",
       "9                4  \n",
       "10               4  \n",
       "11               4  \n",
       "12               4  \n",
       "13               4  \n",
       "14               4  \n",
       "15               4  \n",
       "16               4  \n",
       "17               3  \n",
       "18               4  \n",
       "19               4  "
      ]
     },
     "metadata": {},
     "output_type": "display_data"
    }
   ],
   "source": [
    "username = '31xhv5tnvdg265rd524famuedjpm'\n",
    "scope = 'user-library-read'\n",
    "client_id = '2ca6d814890b479790b42a33a95bed59'\n",
    "client_secret = '30de712fa2ed4a01b219bcabd21ea2c4'\n",
    "redirect_uri = 'http://localhost:8888/callback'\n",
    "\n",
    "auth_manager = SpotifyOAuth(client_id=client_id, client_secret=client_secret, redirect_uri=redirect_uri, scope=scope, username=username)\n",
    "sp = spotipy.Spotify(auth_manager=auth_manager)\n",
    "\n",
    "results = sp.current_user_saved_tracks()\n",
    "liked_song_names = []\n",
    "liked_artists = []\n",
    "danceability = []\n",
    "\n",
    "for item in results['items']:\n",
    "    track = item['track']\n",
    "    liked_song_names.append(track['name'])\n",
    "    liked_artists.append(track['artists'][0]['name'])\n",
    "    danceability.append(sp.audio_features(track['id'])[0]['danceability'])\n",
    "\n",
    "df_liked_songs = pd.DataFrame({'Track Name': liked_song_names, 'Artist': liked_artists, 'Danceability': danceability})\n",
    "\n",
    "liked_songs_uris = [item['track']['uri'] for item in results['items']]\n",
    "audio_features_list = []\n",
    "\n",
    "for uri in liked_songs_uris:\n",
    "    audio_features = sp.audio_features(uri)\n",
    "    audio_features_list.append(audio_features[0])\n",
    "\n",
    "df_audio_features = pd.DataFrame(audio_features_list)\n",
    "\n",
    "display(df_liked_songs)\n",
    "display(df_audio_features)\n",
    "\n"
   ]
  },
  {
   "attachments": {},
   "cell_type": "markdown",
   "metadata": {},
   "source": [
    "# *Task 3*"
   ]
  },
  {
   "attachments": {},
   "cell_type": "markdown",
   "metadata": {},
   "source": [
    "#### *Create visualizations and complete your own analysis of the songs in your playlist.* "
   ]
  },
  {
   "cell_type": "code",
   "execution_count": 129,
   "metadata": {},
   "outputs": [
    {
     "data": {
      "application/vnd.plotly.v1+json": {
       "config": {
        "plotlyServerURL": "https://plot.ly"
       },
       "data": [
        {
         "hovertemplate": "Track Name=High In California<br>Artist=%{x}<br>index=%{y}<extra></extra>",
         "legendgroup": "High In California",
         "marker": {
          "color": "#636efa",
          "symbol": "circle"
         },
         "mode": "markers",
         "name": "High In California",
         "orientation": "h",
         "showlegend": true,
         "type": "scatter",
         "x": [
          "Louis Tomlinson"
         ],
         "xaxis": "x",
         "y": [
          0
         ],
         "yaxis": "y"
        },
        {
         "hovertemplate": "Track Name=On The Boat Again<br>Artist=%{x}<br>index=%{y}<extra></extra>",
         "legendgroup": "On The Boat Again",
         "marker": {
          "color": "#EF553B",
          "symbol": "circle"
         },
         "mode": "markers",
         "name": "On The Boat Again",
         "orientation": "h",
         "showlegend": true,
         "type": "scatter",
         "x": [
          "Jake Owen"
         ],
         "xaxis": "x",
         "y": [
          1
         ],
         "yaxis": "y"
        },
        {
         "hovertemplate": "Track Name=Happy People (with Teddy Swims & Jac Ross)<br>Artist=%{x}<br>index=%{y}<extra></extra>",
         "legendgroup": "Happy People (with Teddy Swims & Jac Ross)",
         "marker": {
          "color": "#00cc96",
          "symbol": "circle"
         },
         "mode": "markers",
         "name": "Happy People (with Teddy Swims & Jac Ross)",
         "orientation": "h",
         "showlegend": true,
         "type": "scatter",
         "x": [
          "X Ambassadors"
         ],
         "xaxis": "x",
         "y": [
          2
         ],
         "yaxis": "y"
        },
        {
         "hovertemplate": "Track Name=Queen of New York City<br>Artist=%{x}<br>index=%{y}<extra></extra>",
         "legendgroup": "Queen of New York City",
         "marker": {
          "color": "#ab63fa",
          "symbol": "circle"
         },
         "mode": "markers",
         "name": "Queen of New York City",
         "orientation": "h",
         "showlegend": true,
         "type": "scatter",
         "x": [
          "Matchbox Twenty"
         ],
         "xaxis": "x",
         "y": [
          3
         ],
         "yaxis": "y"
        },
        {
         "hovertemplate": "Track Name=ONE NATION UNDERDOGS<br>Artist=%{x}<br>index=%{y}<extra></extra>",
         "legendgroup": "ONE NATION UNDERDOGS",
         "marker": {
          "color": "#FFA15A",
          "symbol": "circle"
         },
         "mode": "markers",
         "name": "ONE NATION UNDERDOGS",
         "orientation": "h",
         "showlegend": true,
         "type": "scatter",
         "x": [
          "Royal & the Serpent"
         ],
         "xaxis": "x",
         "y": [
          4
         ],
         "yaxis": "y"
        },
        {
         "hovertemplate": "Track Name=Ion Need<br>Artist=%{x}<br>index=%{y}<extra></extra>",
         "legendgroup": "Ion Need",
         "marker": {
          "color": "#19d3f3",
          "symbol": "circle"
         },
         "mode": "markers",
         "name": "Ion Need",
         "orientation": "h",
         "showlegend": true,
         "type": "scatter",
         "x": [
          "Big Boss Vette"
         ],
         "xaxis": "x",
         "y": [
          5
         ],
         "yaxis": "y"
        },
        {
         "hovertemplate": "Track Name=Turn The Streets Up<br>Artist=%{x}<br>index=%{y}<extra></extra>",
         "legendgroup": "Turn The Streets Up",
         "marker": {
          "color": "#FF6692",
          "symbol": "circle"
         },
         "mode": "markers",
         "name": "Turn The Streets Up",
         "orientation": "h",
         "showlegend": true,
         "type": "scatter",
         "x": [
          "EST Gee"
         ],
         "xaxis": "x",
         "y": [
          6
         ],
         "yaxis": "y"
        },
        {
         "hovertemplate": "Track Name=Easter Pink<br>Artist=%{x}<br>index=%{y}<extra></extra>",
         "legendgroup": "Easter Pink",
         "marker": {
          "color": "#B6E880",
          "symbol": "circle"
         },
         "mode": "markers",
         "name": "Easter Pink",
         "orientation": "h",
         "showlegend": true,
         "type": "scatter",
         "x": [
          "$NOT"
         ],
         "xaxis": "x",
         "y": [
          7
         ],
         "yaxis": "y"
        },
        {
         "hovertemplate": "Track Name=Elohim<br>Artist=%{x}<br>index=%{y}<extra></extra>",
         "legendgroup": "Elohim",
         "marker": {
          "color": "#FF97FF",
          "symbol": "circle"
         },
         "mode": "markers",
         "name": "Elohim",
         "orientation": "h",
         "showlegend": true,
         "type": "scatter",
         "x": [
          "Sondae"
         ],
         "xaxis": "x",
         "y": [
          8
         ],
         "yaxis": "y"
        },
        {
         "hovertemplate": "Track Name=Columbo<br>Artist=%{x}<br>index=%{y}<extra></extra>",
         "legendgroup": "Columbo",
         "marker": {
          "color": "#FECB52",
          "symbol": "circle"
         },
         "mode": "markers",
         "name": "Columbo",
         "orientation": "h",
         "showlegend": true,
         "type": "scatter",
         "x": [
          "Bruno Major"
         ],
         "xaxis": "x",
         "y": [
          9
         ],
         "yaxis": "y"
        },
        {
         "hovertemplate": "Track Name=Voyage<br>Artist=%{x}<br>index=%{y}<extra></extra>",
         "legendgroup": "Voyage",
         "marker": {
          "color": "#636efa",
          "symbol": "circle"
         },
         "mode": "markers",
         "name": "Voyage",
         "orientation": "h",
         "showlegend": true,
         "type": "scatter",
         "x": [
          "James Fortune"
         ],
         "xaxis": "x",
         "y": [
          10
         ],
         "yaxis": "y"
        },
        {
         "hovertemplate": "Track Name=tqum<br>Artist=%{x}<br>index=%{y}<extra></extra>",
         "legendgroup": "tqum",
         "marker": {
          "color": "#EF553B",
          "symbol": "circle"
         },
         "mode": "markers",
         "name": "tqum",
         "orientation": "h",
         "showlegend": true,
         "type": "scatter",
         "x": [
          "Sofía Reyes"
         ],
         "xaxis": "x",
         "y": [
          11
         ],
         "yaxis": "y"
        },
        {
         "hovertemplate": "Track Name=Dominoes<br>Artist=%{x}<br>index=%{y}<extra></extra>",
         "legendgroup": "Dominoes",
         "marker": {
          "color": "#00cc96",
          "symbol": "circle"
         },
         "mode": "markers",
         "name": "Dominoes",
         "orientation": "h",
         "showlegend": true,
         "type": "scatter",
         "x": [
          "Jungle"
         ],
         "xaxis": "x",
         "y": [
          12
         ],
         "yaxis": "y"
        },
        {
         "hovertemplate": "Track Name=Summer of Luv (feat. Unknown Mortal Orchestra)<br>Artist=%{x}<br>index=%{y}<extra></extra>",
         "legendgroup": "Summer of Luv (feat. Unknown Mortal Orchestra)",
         "marker": {
          "color": "#ab63fa",
          "symbol": "circle"
         },
         "mode": "markers",
         "name": "Summer of Luv (feat. Unknown Mortal Orchestra)",
         "orientation": "h",
         "showlegend": true,
         "type": "scatter",
         "x": [
          "Portugal. The Man"
         ],
         "xaxis": "x",
         "y": [
          13
         ],
         "yaxis": "y"
        },
        {
         "hovertemplate": "Track Name=Wolves (feat. Ty Dolla $ign & Russ)<br>Artist=%{x}<br>index=%{y}<extra></extra>",
         "legendgroup": "Wolves (feat. Ty Dolla $ign & Russ)",
         "marker": {
          "color": "#FFA15A",
          "symbol": "circle"
         },
         "mode": "markers",
         "name": "Wolves (feat. Ty Dolla $ign & Russ)",
         "orientation": "h",
         "showlegend": true,
         "type": "scatter",
         "x": [
          "Lauren Jauregui"
         ],
         "xaxis": "x",
         "y": [
          14
         ],
         "yaxis": "y"
        },
        {
         "hovertemplate": "Track Name=Cocoa<br>Artist=%{x}<br>index=%{y}<extra></extra>",
         "legendgroup": "Cocoa",
         "marker": {
          "color": "#19d3f3",
          "symbol": "circle"
         },
         "mode": "markers",
         "name": "Cocoa",
         "orientation": "h",
         "showlegend": true,
         "type": "scatter",
         "x": [
          "Kevin Ross"
         ],
         "xaxis": "x",
         "y": [
          15
         ],
         "yaxis": "y"
        },
        {
         "hovertemplate": "Track Name=you don't love me anymore<br>Artist=%{x}<br>index=%{y}<extra></extra>",
         "legendgroup": "you don't love me anymore",
         "marker": {
          "color": "#FF6692",
          "symbol": "circle"
         },
         "mode": "markers",
         "name": "you don't love me anymore",
         "orientation": "h",
         "showlegend": true,
         "type": "scatter",
         "x": [
          "Cat Burns"
         ],
         "xaxis": "x",
         "y": [
          16
         ],
         "yaxis": "y"
        },
        {
         "hovertemplate": "Track Name=Night Life - (Hot Country Artists to Watch) - Spotify Singles<br>Artist=%{x}<br>index=%{y}<extra></extra>",
         "legendgroup": "Night Life - (Hot Country Artists to Watch) - Spotify Singles",
         "marker": {
          "color": "#B6E880",
          "symbol": "circle"
         },
         "mode": "markers",
         "name": "Night Life - (Hot Country Artists to Watch) - Spotify Singles",
         "orientation": "h",
         "showlegend": true,
         "type": "scatter",
         "x": [
          "ERNEST"
         ],
         "xaxis": "x",
         "y": [
          17
         ],
         "yaxis": "y"
        },
        {
         "hovertemplate": "Track Name=Girl from the North Country - (Hot Country Artists to Watch) - Spotify Singles<br>Artist=%{x}<br>index=%{y}<extra></extra>",
         "legendgroup": "Girl from the North Country - (Hot Country Artists to Watch) - Spotify Singles",
         "marker": {
          "color": "#FF97FF",
          "symbol": "circle"
         },
         "mode": "markers",
         "name": "Girl from the North Country - (Hot Country Artists to Watch) - Spotify Singles",
         "orientation": "h",
         "showlegend": true,
         "type": "scatter",
         "x": [
          "Jackson Dean"
         ],
         "xaxis": "x",
         "y": [
          18
         ],
         "yaxis": "y"
        },
        {
         "hovertemplate": "Track Name=Shortstop<br>Artist=%{x}<br>index=%{y}<extra></extra>",
         "legendgroup": "Shortstop",
         "marker": {
          "color": "#FECB52",
          "symbol": "circle"
         },
         "mode": "markers",
         "name": "Shortstop",
         "orientation": "h",
         "showlegend": true,
         "type": "scatter",
         "x": [
          "Miya Folick"
         ],
         "xaxis": "x",
         "y": [
          19
         ],
         "yaxis": "y"
        }
       ],
       "layout": {
        "legend": {
         "title": {
          "text": "Track Name"
         },
         "tracegroupgap": 0
        },
        "template": {
         "data": {
          "bar": [
           {
            "error_x": {
             "color": "#2a3f5f"
            },
            "error_y": {
             "color": "#2a3f5f"
            },
            "marker": {
             "line": {
              "color": "#E5ECF6",
              "width": 0.5
             },
             "pattern": {
              "fillmode": "overlay",
              "size": 10,
              "solidity": 0.2
             }
            },
            "type": "bar"
           }
          ],
          "barpolar": [
           {
            "marker": {
             "line": {
              "color": "#E5ECF6",
              "width": 0.5
             },
             "pattern": {
              "fillmode": "overlay",
              "size": 10,
              "solidity": 0.2
             }
            },
            "type": "barpolar"
           }
          ],
          "carpet": [
           {
            "aaxis": {
             "endlinecolor": "#2a3f5f",
             "gridcolor": "white",
             "linecolor": "white",
             "minorgridcolor": "white",
             "startlinecolor": "#2a3f5f"
            },
            "baxis": {
             "endlinecolor": "#2a3f5f",
             "gridcolor": "white",
             "linecolor": "white",
             "minorgridcolor": "white",
             "startlinecolor": "#2a3f5f"
            },
            "type": "carpet"
           }
          ],
          "choropleth": [
           {
            "colorbar": {
             "outlinewidth": 0,
             "ticks": ""
            },
            "type": "choropleth"
           }
          ],
          "contour": [
           {
            "colorbar": {
             "outlinewidth": 0,
             "ticks": ""
            },
            "colorscale": [
             [
              0,
              "#0d0887"
             ],
             [
              0.1111111111111111,
              "#46039f"
             ],
             [
              0.2222222222222222,
              "#7201a8"
             ],
             [
              0.3333333333333333,
              "#9c179e"
             ],
             [
              0.4444444444444444,
              "#bd3786"
             ],
             [
              0.5555555555555556,
              "#d8576b"
             ],
             [
              0.6666666666666666,
              "#ed7953"
             ],
             [
              0.7777777777777778,
              "#fb9f3a"
             ],
             [
              0.8888888888888888,
              "#fdca26"
             ],
             [
              1,
              "#f0f921"
             ]
            ],
            "type": "contour"
           }
          ],
          "contourcarpet": [
           {
            "colorbar": {
             "outlinewidth": 0,
             "ticks": ""
            },
            "type": "contourcarpet"
           }
          ],
          "heatmap": [
           {
            "colorbar": {
             "outlinewidth": 0,
             "ticks": ""
            },
            "colorscale": [
             [
              0,
              "#0d0887"
             ],
             [
              0.1111111111111111,
              "#46039f"
             ],
             [
              0.2222222222222222,
              "#7201a8"
             ],
             [
              0.3333333333333333,
              "#9c179e"
             ],
             [
              0.4444444444444444,
              "#bd3786"
             ],
             [
              0.5555555555555556,
              "#d8576b"
             ],
             [
              0.6666666666666666,
              "#ed7953"
             ],
             [
              0.7777777777777778,
              "#fb9f3a"
             ],
             [
              0.8888888888888888,
              "#fdca26"
             ],
             [
              1,
              "#f0f921"
             ]
            ],
            "type": "heatmap"
           }
          ],
          "heatmapgl": [
           {
            "colorbar": {
             "outlinewidth": 0,
             "ticks": ""
            },
            "colorscale": [
             [
              0,
              "#0d0887"
             ],
             [
              0.1111111111111111,
              "#46039f"
             ],
             [
              0.2222222222222222,
              "#7201a8"
             ],
             [
              0.3333333333333333,
              "#9c179e"
             ],
             [
              0.4444444444444444,
              "#bd3786"
             ],
             [
              0.5555555555555556,
              "#d8576b"
             ],
             [
              0.6666666666666666,
              "#ed7953"
             ],
             [
              0.7777777777777778,
              "#fb9f3a"
             ],
             [
              0.8888888888888888,
              "#fdca26"
             ],
             [
              1,
              "#f0f921"
             ]
            ],
            "type": "heatmapgl"
           }
          ],
          "histogram": [
           {
            "marker": {
             "pattern": {
              "fillmode": "overlay",
              "size": 10,
              "solidity": 0.2
             }
            },
            "type": "histogram"
           }
          ],
          "histogram2d": [
           {
            "colorbar": {
             "outlinewidth": 0,
             "ticks": ""
            },
            "colorscale": [
             [
              0,
              "#0d0887"
             ],
             [
              0.1111111111111111,
              "#46039f"
             ],
             [
              0.2222222222222222,
              "#7201a8"
             ],
             [
              0.3333333333333333,
              "#9c179e"
             ],
             [
              0.4444444444444444,
              "#bd3786"
             ],
             [
              0.5555555555555556,
              "#d8576b"
             ],
             [
              0.6666666666666666,
              "#ed7953"
             ],
             [
              0.7777777777777778,
              "#fb9f3a"
             ],
             [
              0.8888888888888888,
              "#fdca26"
             ],
             [
              1,
              "#f0f921"
             ]
            ],
            "type": "histogram2d"
           }
          ],
          "histogram2dcontour": [
           {
            "colorbar": {
             "outlinewidth": 0,
             "ticks": ""
            },
            "colorscale": [
             [
              0,
              "#0d0887"
             ],
             [
              0.1111111111111111,
              "#46039f"
             ],
             [
              0.2222222222222222,
              "#7201a8"
             ],
             [
              0.3333333333333333,
              "#9c179e"
             ],
             [
              0.4444444444444444,
              "#bd3786"
             ],
             [
              0.5555555555555556,
              "#d8576b"
             ],
             [
              0.6666666666666666,
              "#ed7953"
             ],
             [
              0.7777777777777778,
              "#fb9f3a"
             ],
             [
              0.8888888888888888,
              "#fdca26"
             ],
             [
              1,
              "#f0f921"
             ]
            ],
            "type": "histogram2dcontour"
           }
          ],
          "mesh3d": [
           {
            "colorbar": {
             "outlinewidth": 0,
             "ticks": ""
            },
            "type": "mesh3d"
           }
          ],
          "parcoords": [
           {
            "line": {
             "colorbar": {
              "outlinewidth": 0,
              "ticks": ""
             }
            },
            "type": "parcoords"
           }
          ],
          "pie": [
           {
            "automargin": true,
            "type": "pie"
           }
          ],
          "scatter": [
           {
            "fillpattern": {
             "fillmode": "overlay",
             "size": 10,
             "solidity": 0.2
            },
            "type": "scatter"
           }
          ],
          "scatter3d": [
           {
            "line": {
             "colorbar": {
              "outlinewidth": 0,
              "ticks": ""
             }
            },
            "marker": {
             "colorbar": {
              "outlinewidth": 0,
              "ticks": ""
             }
            },
            "type": "scatter3d"
           }
          ],
          "scattercarpet": [
           {
            "marker": {
             "colorbar": {
              "outlinewidth": 0,
              "ticks": ""
             }
            },
            "type": "scattercarpet"
           }
          ],
          "scattergeo": [
           {
            "marker": {
             "colorbar": {
              "outlinewidth": 0,
              "ticks": ""
             }
            },
            "type": "scattergeo"
           }
          ],
          "scattergl": [
           {
            "marker": {
             "colorbar": {
              "outlinewidth": 0,
              "ticks": ""
             }
            },
            "type": "scattergl"
           }
          ],
          "scattermapbox": [
           {
            "marker": {
             "colorbar": {
              "outlinewidth": 0,
              "ticks": ""
             }
            },
            "type": "scattermapbox"
           }
          ],
          "scatterpolar": [
           {
            "marker": {
             "colorbar": {
              "outlinewidth": 0,
              "ticks": ""
             }
            },
            "type": "scatterpolar"
           }
          ],
          "scatterpolargl": [
           {
            "marker": {
             "colorbar": {
              "outlinewidth": 0,
              "ticks": ""
             }
            },
            "type": "scatterpolargl"
           }
          ],
          "scatterternary": [
           {
            "marker": {
             "colorbar": {
              "outlinewidth": 0,
              "ticks": ""
             }
            },
            "type": "scatterternary"
           }
          ],
          "surface": [
           {
            "colorbar": {
             "outlinewidth": 0,
             "ticks": ""
            },
            "colorscale": [
             [
              0,
              "#0d0887"
             ],
             [
              0.1111111111111111,
              "#46039f"
             ],
             [
              0.2222222222222222,
              "#7201a8"
             ],
             [
              0.3333333333333333,
              "#9c179e"
             ],
             [
              0.4444444444444444,
              "#bd3786"
             ],
             [
              0.5555555555555556,
              "#d8576b"
             ],
             [
              0.6666666666666666,
              "#ed7953"
             ],
             [
              0.7777777777777778,
              "#fb9f3a"
             ],
             [
              0.8888888888888888,
              "#fdca26"
             ],
             [
              1,
              "#f0f921"
             ]
            ],
            "type": "surface"
           }
          ],
          "table": [
           {
            "cells": {
             "fill": {
              "color": "#EBF0F8"
             },
             "line": {
              "color": "white"
             }
            },
            "header": {
             "fill": {
              "color": "#C8D4E3"
             },
             "line": {
              "color": "white"
             }
            },
            "type": "table"
           }
          ]
         },
         "layout": {
          "annotationdefaults": {
           "arrowcolor": "#2a3f5f",
           "arrowhead": 0,
           "arrowwidth": 1
          },
          "autotypenumbers": "strict",
          "coloraxis": {
           "colorbar": {
            "outlinewidth": 0,
            "ticks": ""
           }
          },
          "colorscale": {
           "diverging": [
            [
             0,
             "#8e0152"
            ],
            [
             0.1,
             "#c51b7d"
            ],
            [
             0.2,
             "#de77ae"
            ],
            [
             0.3,
             "#f1b6da"
            ],
            [
             0.4,
             "#fde0ef"
            ],
            [
             0.5,
             "#f7f7f7"
            ],
            [
             0.6,
             "#e6f5d0"
            ],
            [
             0.7,
             "#b8e186"
            ],
            [
             0.8,
             "#7fbc41"
            ],
            [
             0.9,
             "#4d9221"
            ],
            [
             1,
             "#276419"
            ]
           ],
           "sequential": [
            [
             0,
             "#0d0887"
            ],
            [
             0.1111111111111111,
             "#46039f"
            ],
            [
             0.2222222222222222,
             "#7201a8"
            ],
            [
             0.3333333333333333,
             "#9c179e"
            ],
            [
             0.4444444444444444,
             "#bd3786"
            ],
            [
             0.5555555555555556,
             "#d8576b"
            ],
            [
             0.6666666666666666,
             "#ed7953"
            ],
            [
             0.7777777777777778,
             "#fb9f3a"
            ],
            [
             0.8888888888888888,
             "#fdca26"
            ],
            [
             1,
             "#f0f921"
            ]
           ],
           "sequentialminus": [
            [
             0,
             "#0d0887"
            ],
            [
             0.1111111111111111,
             "#46039f"
            ],
            [
             0.2222222222222222,
             "#7201a8"
            ],
            [
             0.3333333333333333,
             "#9c179e"
            ],
            [
             0.4444444444444444,
             "#bd3786"
            ],
            [
             0.5555555555555556,
             "#d8576b"
            ],
            [
             0.6666666666666666,
             "#ed7953"
            ],
            [
             0.7777777777777778,
             "#fb9f3a"
            ],
            [
             0.8888888888888888,
             "#fdca26"
            ],
            [
             1,
             "#f0f921"
            ]
           ]
          },
          "colorway": [
           "#636efa",
           "#EF553B",
           "#00cc96",
           "#ab63fa",
           "#FFA15A",
           "#19d3f3",
           "#FF6692",
           "#B6E880",
           "#FF97FF",
           "#FECB52"
          ],
          "font": {
           "color": "#2a3f5f"
          },
          "geo": {
           "bgcolor": "white",
           "lakecolor": "white",
           "landcolor": "#E5ECF6",
           "showlakes": true,
           "showland": true,
           "subunitcolor": "white"
          },
          "hoverlabel": {
           "align": "left"
          },
          "hovermode": "closest",
          "mapbox": {
           "style": "light"
          },
          "paper_bgcolor": "white",
          "plot_bgcolor": "#E5ECF6",
          "polar": {
           "angularaxis": {
            "gridcolor": "white",
            "linecolor": "white",
            "ticks": ""
           },
           "bgcolor": "#E5ECF6",
           "radialaxis": {
            "gridcolor": "white",
            "linecolor": "white",
            "ticks": ""
           }
          },
          "scene": {
           "xaxis": {
            "backgroundcolor": "#E5ECF6",
            "gridcolor": "white",
            "gridwidth": 2,
            "linecolor": "white",
            "showbackground": true,
            "ticks": "",
            "zerolinecolor": "white"
           },
           "yaxis": {
            "backgroundcolor": "#E5ECF6",
            "gridcolor": "white",
            "gridwidth": 2,
            "linecolor": "white",
            "showbackground": true,
            "ticks": "",
            "zerolinecolor": "white"
           },
           "zaxis": {
            "backgroundcolor": "#E5ECF6",
            "gridcolor": "white",
            "gridwidth": 2,
            "linecolor": "white",
            "showbackground": true,
            "ticks": "",
            "zerolinecolor": "white"
           }
          },
          "shapedefaults": {
           "line": {
            "color": "#2a3f5f"
           }
          },
          "ternary": {
           "aaxis": {
            "gridcolor": "white",
            "linecolor": "white",
            "ticks": ""
           },
           "baxis": {
            "gridcolor": "white",
            "linecolor": "white",
            "ticks": ""
           },
           "bgcolor": "#E5ECF6",
           "caxis": {
            "gridcolor": "white",
            "linecolor": "white",
            "ticks": ""
           }
          },
          "title": {
           "x": 0.05
          },
          "xaxis": {
           "automargin": true,
           "gridcolor": "white",
           "linecolor": "white",
           "ticks": "",
           "title": {
            "standoff": 15
           },
           "zerolinecolor": "white",
           "zerolinewidth": 2
          },
          "yaxis": {
           "automargin": true,
           "gridcolor": "white",
           "linecolor": "white",
           "ticks": "",
           "title": {
            "standoff": 15
           },
           "zerolinecolor": "white",
           "zerolinewidth": 2
          }
         }
        },
        "title": {
         "text": "Artists in my Top 20 Liked Songs"
        },
        "xaxis": {
         "anchor": "y",
         "domain": [
          0,
          1
         ],
         "title": {
          "text": "Artist"
         }
        },
        "yaxis": {
         "anchor": "x",
         "domain": [
          0,
          1
         ],
         "title": {
          "text": "index"
         }
        }
       }
      }
     },
     "metadata": {},
     "output_type": "display_data"
    },
    {
     "data": {
      "application/vnd.plotly.v1+json": {
       "config": {
        "plotlyServerURL": "https://plot.ly"
       },
       "data": [
        {
         "alignmentgroup": "True",
         "hovertemplate": "Track Name=High In California<br>Artist=%{x}<br>Danceability=%{y}<extra></extra>",
         "legendgroup": "High In California",
         "marker": {
          "color": "#636efa",
          "pattern": {
           "shape": ""
          }
         },
         "name": "High In California",
         "offsetgroup": "High In California",
         "orientation": "v",
         "showlegend": true,
         "textposition": "auto",
         "type": "bar",
         "x": [
          "Louis Tomlinson"
         ],
         "xaxis": "x",
         "y": [
          0.7
         ],
         "yaxis": "y"
        },
        {
         "alignmentgroup": "True",
         "hovertemplate": "Track Name=On The Boat Again<br>Artist=%{x}<br>Danceability=%{y}<extra></extra>",
         "legendgroup": "On The Boat Again",
         "marker": {
          "color": "#EF553B",
          "pattern": {
           "shape": ""
          }
         },
         "name": "On The Boat Again",
         "offsetgroup": "On The Boat Again",
         "orientation": "v",
         "showlegend": true,
         "textposition": "auto",
         "type": "bar",
         "x": [
          "Jake Owen"
         ],
         "xaxis": "x",
         "y": [
          0.53
         ],
         "yaxis": "y"
        },
        {
         "alignmentgroup": "True",
         "hovertemplate": "Track Name=Happy People (with Teddy Swims & Jac Ross)<br>Artist=%{x}<br>Danceability=%{y}<extra></extra>",
         "legendgroup": "Happy People (with Teddy Swims & Jac Ross)",
         "marker": {
          "color": "#00cc96",
          "pattern": {
           "shape": ""
          }
         },
         "name": "Happy People (with Teddy Swims & Jac Ross)",
         "offsetgroup": "Happy People (with Teddy Swims & Jac Ross)",
         "orientation": "v",
         "showlegend": true,
         "textposition": "auto",
         "type": "bar",
         "x": [
          "X Ambassadors"
         ],
         "xaxis": "x",
         "y": [
          0.244
         ],
         "yaxis": "y"
        },
        {
         "alignmentgroup": "True",
         "hovertemplate": "Track Name=Queen of New York City<br>Artist=%{x}<br>Danceability=%{y}<extra></extra>",
         "legendgroup": "Queen of New York City",
         "marker": {
          "color": "#ab63fa",
          "pattern": {
           "shape": ""
          }
         },
         "name": "Queen of New York City",
         "offsetgroup": "Queen of New York City",
         "orientation": "v",
         "showlegend": true,
         "textposition": "auto",
         "type": "bar",
         "x": [
          "Matchbox Twenty"
         ],
         "xaxis": "x",
         "y": [
          0.561
         ],
         "yaxis": "y"
        },
        {
         "alignmentgroup": "True",
         "hovertemplate": "Track Name=ONE NATION UNDERDOGS<br>Artist=%{x}<br>Danceability=%{y}<extra></extra>",
         "legendgroup": "ONE NATION UNDERDOGS",
         "marker": {
          "color": "#FFA15A",
          "pattern": {
           "shape": ""
          }
         },
         "name": "ONE NATION UNDERDOGS",
         "offsetgroup": "ONE NATION UNDERDOGS",
         "orientation": "v",
         "showlegend": true,
         "textposition": "auto",
         "type": "bar",
         "x": [
          "Royal & the Serpent"
         ],
         "xaxis": "x",
         "y": [
          0.539
         ],
         "yaxis": "y"
        },
        {
         "alignmentgroup": "True",
         "hovertemplate": "Track Name=Ion Need<br>Artist=%{x}<br>Danceability=%{y}<extra></extra>",
         "legendgroup": "Ion Need",
         "marker": {
          "color": "#19d3f3",
          "pattern": {
           "shape": ""
          }
         },
         "name": "Ion Need",
         "offsetgroup": "Ion Need",
         "orientation": "v",
         "showlegend": true,
         "textposition": "auto",
         "type": "bar",
         "x": [
          "Big Boss Vette"
         ],
         "xaxis": "x",
         "y": [
          0.851
         ],
         "yaxis": "y"
        },
        {
         "alignmentgroup": "True",
         "hovertemplate": "Track Name=Turn The Streets Up<br>Artist=%{x}<br>Danceability=%{y}<extra></extra>",
         "legendgroup": "Turn The Streets Up",
         "marker": {
          "color": "#FF6692",
          "pattern": {
           "shape": ""
          }
         },
         "name": "Turn The Streets Up",
         "offsetgroup": "Turn The Streets Up",
         "orientation": "v",
         "showlegend": true,
         "textposition": "auto",
         "type": "bar",
         "x": [
          "EST Gee"
         ],
         "xaxis": "x",
         "y": [
          0.727
         ],
         "yaxis": "y"
        },
        {
         "alignmentgroup": "True",
         "hovertemplate": "Track Name=Easter Pink<br>Artist=%{x}<br>Danceability=%{y}<extra></extra>",
         "legendgroup": "Easter Pink",
         "marker": {
          "color": "#B6E880",
          "pattern": {
           "shape": ""
          }
         },
         "name": "Easter Pink",
         "offsetgroup": "Easter Pink",
         "orientation": "v",
         "showlegend": true,
         "textposition": "auto",
         "type": "bar",
         "x": [
          "$NOT"
         ],
         "xaxis": "x",
         "y": [
          0.708
         ],
         "yaxis": "y"
        },
        {
         "alignmentgroup": "True",
         "hovertemplate": "Track Name=Elohim<br>Artist=%{x}<br>Danceability=%{y}<extra></extra>",
         "legendgroup": "Elohim",
         "marker": {
          "color": "#FF97FF",
          "pattern": {
           "shape": ""
          }
         },
         "name": "Elohim",
         "offsetgroup": "Elohim",
         "orientation": "v",
         "showlegend": true,
         "textposition": "auto",
         "type": "bar",
         "x": [
          "Sondae"
         ],
         "xaxis": "x",
         "y": [
          0.79
         ],
         "yaxis": "y"
        },
        {
         "alignmentgroup": "True",
         "hovertemplate": "Track Name=Columbo<br>Artist=%{x}<br>Danceability=%{y}<extra></extra>",
         "legendgroup": "Columbo",
         "marker": {
          "color": "#FECB52",
          "pattern": {
           "shape": ""
          }
         },
         "name": "Columbo",
         "offsetgroup": "Columbo",
         "orientation": "v",
         "showlegend": true,
         "textposition": "auto",
         "type": "bar",
         "x": [
          "Bruno Major"
         ],
         "xaxis": "x",
         "y": [
          0.469
         ],
         "yaxis": "y"
        },
        {
         "alignmentgroup": "True",
         "hovertemplate": "Track Name=Voyage<br>Artist=%{x}<br>Danceability=%{y}<extra></extra>",
         "legendgroup": "Voyage",
         "marker": {
          "color": "#636efa",
          "pattern": {
           "shape": ""
          }
         },
         "name": "Voyage",
         "offsetgroup": "Voyage",
         "orientation": "v",
         "showlegend": true,
         "textposition": "auto",
         "type": "bar",
         "x": [
          "James Fortune"
         ],
         "xaxis": "x",
         "y": [
          0.715
         ],
         "yaxis": "y"
        },
        {
         "alignmentgroup": "True",
         "hovertemplate": "Track Name=tqum<br>Artist=%{x}<br>Danceability=%{y}<extra></extra>",
         "legendgroup": "tqum",
         "marker": {
          "color": "#EF553B",
          "pattern": {
           "shape": ""
          }
         },
         "name": "tqum",
         "offsetgroup": "tqum",
         "orientation": "v",
         "showlegend": true,
         "textposition": "auto",
         "type": "bar",
         "x": [
          "Sofía Reyes"
         ],
         "xaxis": "x",
         "y": [
          0.786
         ],
         "yaxis": "y"
        },
        {
         "alignmentgroup": "True",
         "hovertemplate": "Track Name=Dominoes<br>Artist=%{x}<br>Danceability=%{y}<extra></extra>",
         "legendgroup": "Dominoes",
         "marker": {
          "color": "#00cc96",
          "pattern": {
           "shape": ""
          }
         },
         "name": "Dominoes",
         "offsetgroup": "Dominoes",
         "orientation": "v",
         "showlegend": true,
         "textposition": "auto",
         "type": "bar",
         "x": [
          "Jungle"
         ],
         "xaxis": "x",
         "y": [
          0.689
         ],
         "yaxis": "y"
        },
        {
         "alignmentgroup": "True",
         "hovertemplate": "Track Name=Summer of Luv (feat. Unknown Mortal Orchestra)<br>Artist=%{x}<br>Danceability=%{y}<extra></extra>",
         "legendgroup": "Summer of Luv (feat. Unknown Mortal Orchestra)",
         "marker": {
          "color": "#ab63fa",
          "pattern": {
           "shape": ""
          }
         },
         "name": "Summer of Luv (feat. Unknown Mortal Orchestra)",
         "offsetgroup": "Summer of Luv (feat. Unknown Mortal Orchestra)",
         "orientation": "v",
         "showlegend": true,
         "textposition": "auto",
         "type": "bar",
         "x": [
          "Portugal. The Man"
         ],
         "xaxis": "x",
         "y": [
          0.633
         ],
         "yaxis": "y"
        },
        {
         "alignmentgroup": "True",
         "hovertemplate": "Track Name=Wolves (feat. Ty Dolla $ign & Russ)<br>Artist=%{x}<br>Danceability=%{y}<extra></extra>",
         "legendgroup": "Wolves (feat. Ty Dolla $ign & Russ)",
         "marker": {
          "color": "#FFA15A",
          "pattern": {
           "shape": ""
          }
         },
         "name": "Wolves (feat. Ty Dolla $ign & Russ)",
         "offsetgroup": "Wolves (feat. Ty Dolla $ign & Russ)",
         "orientation": "v",
         "showlegend": true,
         "textposition": "auto",
         "type": "bar",
         "x": [
          "Lauren Jauregui"
         ],
         "xaxis": "x",
         "y": [
          0.354
         ],
         "yaxis": "y"
        },
        {
         "alignmentgroup": "True",
         "hovertemplate": "Track Name=Cocoa<br>Artist=%{x}<br>Danceability=%{y}<extra></extra>",
         "legendgroup": "Cocoa",
         "marker": {
          "color": "#19d3f3",
          "pattern": {
           "shape": ""
          }
         },
         "name": "Cocoa",
         "offsetgroup": "Cocoa",
         "orientation": "v",
         "showlegend": true,
         "textposition": "auto",
         "type": "bar",
         "x": [
          "Kevin Ross"
         ],
         "xaxis": "x",
         "y": [
          0.574
         ],
         "yaxis": "y"
        },
        {
         "alignmentgroup": "True",
         "hovertemplate": "Track Name=you don't love me anymore<br>Artist=%{x}<br>Danceability=%{y}<extra></extra>",
         "legendgroup": "you don't love me anymore",
         "marker": {
          "color": "#FF6692",
          "pattern": {
           "shape": ""
          }
         },
         "name": "you don't love me anymore",
         "offsetgroup": "you don't love me anymore",
         "orientation": "v",
         "showlegend": true,
         "textposition": "auto",
         "type": "bar",
         "x": [
          "Cat Burns"
         ],
         "xaxis": "x",
         "y": [
          0.55
         ],
         "yaxis": "y"
        },
        {
         "alignmentgroup": "True",
         "hovertemplate": "Track Name=Night Life - (Hot Country Artists to Watch) - Spotify Singles<br>Artist=%{x}<br>Danceability=%{y}<extra></extra>",
         "legendgroup": "Night Life - (Hot Country Artists to Watch) - Spotify Singles",
         "marker": {
          "color": "#B6E880",
          "pattern": {
           "shape": ""
          }
         },
         "name": "Night Life - (Hot Country Artists to Watch) - Spotify Singles",
         "offsetgroup": "Night Life - (Hot Country Artists to Watch) - Spotify Singles",
         "orientation": "v",
         "showlegend": true,
         "textposition": "auto",
         "type": "bar",
         "x": [
          "ERNEST"
         ],
         "xaxis": "x",
         "y": [
          0.502
         ],
         "yaxis": "y"
        },
        {
         "alignmentgroup": "True",
         "hovertemplate": "Track Name=Girl from the North Country - (Hot Country Artists to Watch) - Spotify Singles<br>Artist=%{x}<br>Danceability=%{y}<extra></extra>",
         "legendgroup": "Girl from the North Country - (Hot Country Artists to Watch) - Spotify Singles",
         "marker": {
          "color": "#FF97FF",
          "pattern": {
           "shape": ""
          }
         },
         "name": "Girl from the North Country - (Hot Country Artists to Watch) - Spotify Singles",
         "offsetgroup": "Girl from the North Country - (Hot Country Artists to Watch) - Spotify Singles",
         "orientation": "v",
         "showlegend": true,
         "textposition": "auto",
         "type": "bar",
         "x": [
          "Jackson Dean"
         ],
         "xaxis": "x",
         "y": [
          0.556
         ],
         "yaxis": "y"
        },
        {
         "alignmentgroup": "True",
         "hovertemplate": "Track Name=Shortstop<br>Artist=%{x}<br>Danceability=%{y}<extra></extra>",
         "legendgroup": "Shortstop",
         "marker": {
          "color": "#FECB52",
          "pattern": {
           "shape": ""
          }
         },
         "name": "Shortstop",
         "offsetgroup": "Shortstop",
         "orientation": "v",
         "showlegend": true,
         "textposition": "auto",
         "type": "bar",
         "x": [
          "Miya Folick"
         ],
         "xaxis": "x",
         "y": [
          0.646
         ],
         "yaxis": "y"
        }
       ],
       "layout": {
        "barmode": "relative",
        "legend": {
         "title": {
          "text": "Track Name"
         },
         "tracegroupgap": 0
        },
        "template": {
         "data": {
          "bar": [
           {
            "error_x": {
             "color": "#2a3f5f"
            },
            "error_y": {
             "color": "#2a3f5f"
            },
            "marker": {
             "line": {
              "color": "#E5ECF6",
              "width": 0.5
             },
             "pattern": {
              "fillmode": "overlay",
              "size": 10,
              "solidity": 0.2
             }
            },
            "type": "bar"
           }
          ],
          "barpolar": [
           {
            "marker": {
             "line": {
              "color": "#E5ECF6",
              "width": 0.5
             },
             "pattern": {
              "fillmode": "overlay",
              "size": 10,
              "solidity": 0.2
             }
            },
            "type": "barpolar"
           }
          ],
          "carpet": [
           {
            "aaxis": {
             "endlinecolor": "#2a3f5f",
             "gridcolor": "white",
             "linecolor": "white",
             "minorgridcolor": "white",
             "startlinecolor": "#2a3f5f"
            },
            "baxis": {
             "endlinecolor": "#2a3f5f",
             "gridcolor": "white",
             "linecolor": "white",
             "minorgridcolor": "white",
             "startlinecolor": "#2a3f5f"
            },
            "type": "carpet"
           }
          ],
          "choropleth": [
           {
            "colorbar": {
             "outlinewidth": 0,
             "ticks": ""
            },
            "type": "choropleth"
           }
          ],
          "contour": [
           {
            "colorbar": {
             "outlinewidth": 0,
             "ticks": ""
            },
            "colorscale": [
             [
              0,
              "#0d0887"
             ],
             [
              0.1111111111111111,
              "#46039f"
             ],
             [
              0.2222222222222222,
              "#7201a8"
             ],
             [
              0.3333333333333333,
              "#9c179e"
             ],
             [
              0.4444444444444444,
              "#bd3786"
             ],
             [
              0.5555555555555556,
              "#d8576b"
             ],
             [
              0.6666666666666666,
              "#ed7953"
             ],
             [
              0.7777777777777778,
              "#fb9f3a"
             ],
             [
              0.8888888888888888,
              "#fdca26"
             ],
             [
              1,
              "#f0f921"
             ]
            ],
            "type": "contour"
           }
          ],
          "contourcarpet": [
           {
            "colorbar": {
             "outlinewidth": 0,
             "ticks": ""
            },
            "type": "contourcarpet"
           }
          ],
          "heatmap": [
           {
            "colorbar": {
             "outlinewidth": 0,
             "ticks": ""
            },
            "colorscale": [
             [
              0,
              "#0d0887"
             ],
             [
              0.1111111111111111,
              "#46039f"
             ],
             [
              0.2222222222222222,
              "#7201a8"
             ],
             [
              0.3333333333333333,
              "#9c179e"
             ],
             [
              0.4444444444444444,
              "#bd3786"
             ],
             [
              0.5555555555555556,
              "#d8576b"
             ],
             [
              0.6666666666666666,
              "#ed7953"
             ],
             [
              0.7777777777777778,
              "#fb9f3a"
             ],
             [
              0.8888888888888888,
              "#fdca26"
             ],
             [
              1,
              "#f0f921"
             ]
            ],
            "type": "heatmap"
           }
          ],
          "heatmapgl": [
           {
            "colorbar": {
             "outlinewidth": 0,
             "ticks": ""
            },
            "colorscale": [
             [
              0,
              "#0d0887"
             ],
             [
              0.1111111111111111,
              "#46039f"
             ],
             [
              0.2222222222222222,
              "#7201a8"
             ],
             [
              0.3333333333333333,
              "#9c179e"
             ],
             [
              0.4444444444444444,
              "#bd3786"
             ],
             [
              0.5555555555555556,
              "#d8576b"
             ],
             [
              0.6666666666666666,
              "#ed7953"
             ],
             [
              0.7777777777777778,
              "#fb9f3a"
             ],
             [
              0.8888888888888888,
              "#fdca26"
             ],
             [
              1,
              "#f0f921"
             ]
            ],
            "type": "heatmapgl"
           }
          ],
          "histogram": [
           {
            "marker": {
             "pattern": {
              "fillmode": "overlay",
              "size": 10,
              "solidity": 0.2
             }
            },
            "type": "histogram"
           }
          ],
          "histogram2d": [
           {
            "colorbar": {
             "outlinewidth": 0,
             "ticks": ""
            },
            "colorscale": [
             [
              0,
              "#0d0887"
             ],
             [
              0.1111111111111111,
              "#46039f"
             ],
             [
              0.2222222222222222,
              "#7201a8"
             ],
             [
              0.3333333333333333,
              "#9c179e"
             ],
             [
              0.4444444444444444,
              "#bd3786"
             ],
             [
              0.5555555555555556,
              "#d8576b"
             ],
             [
              0.6666666666666666,
              "#ed7953"
             ],
             [
              0.7777777777777778,
              "#fb9f3a"
             ],
             [
              0.8888888888888888,
              "#fdca26"
             ],
             [
              1,
              "#f0f921"
             ]
            ],
            "type": "histogram2d"
           }
          ],
          "histogram2dcontour": [
           {
            "colorbar": {
             "outlinewidth": 0,
             "ticks": ""
            },
            "colorscale": [
             [
              0,
              "#0d0887"
             ],
             [
              0.1111111111111111,
              "#46039f"
             ],
             [
              0.2222222222222222,
              "#7201a8"
             ],
             [
              0.3333333333333333,
              "#9c179e"
             ],
             [
              0.4444444444444444,
              "#bd3786"
             ],
             [
              0.5555555555555556,
              "#d8576b"
             ],
             [
              0.6666666666666666,
              "#ed7953"
             ],
             [
              0.7777777777777778,
              "#fb9f3a"
             ],
             [
              0.8888888888888888,
              "#fdca26"
             ],
             [
              1,
              "#f0f921"
             ]
            ],
            "type": "histogram2dcontour"
           }
          ],
          "mesh3d": [
           {
            "colorbar": {
             "outlinewidth": 0,
             "ticks": ""
            },
            "type": "mesh3d"
           }
          ],
          "parcoords": [
           {
            "line": {
             "colorbar": {
              "outlinewidth": 0,
              "ticks": ""
             }
            },
            "type": "parcoords"
           }
          ],
          "pie": [
           {
            "automargin": true,
            "type": "pie"
           }
          ],
          "scatter": [
           {
            "fillpattern": {
             "fillmode": "overlay",
             "size": 10,
             "solidity": 0.2
            },
            "type": "scatter"
           }
          ],
          "scatter3d": [
           {
            "line": {
             "colorbar": {
              "outlinewidth": 0,
              "ticks": ""
             }
            },
            "marker": {
             "colorbar": {
              "outlinewidth": 0,
              "ticks": ""
             }
            },
            "type": "scatter3d"
           }
          ],
          "scattercarpet": [
           {
            "marker": {
             "colorbar": {
              "outlinewidth": 0,
              "ticks": ""
             }
            },
            "type": "scattercarpet"
           }
          ],
          "scattergeo": [
           {
            "marker": {
             "colorbar": {
              "outlinewidth": 0,
              "ticks": ""
             }
            },
            "type": "scattergeo"
           }
          ],
          "scattergl": [
           {
            "marker": {
             "colorbar": {
              "outlinewidth": 0,
              "ticks": ""
             }
            },
            "type": "scattergl"
           }
          ],
          "scattermapbox": [
           {
            "marker": {
             "colorbar": {
              "outlinewidth": 0,
              "ticks": ""
             }
            },
            "type": "scattermapbox"
           }
          ],
          "scatterpolar": [
           {
            "marker": {
             "colorbar": {
              "outlinewidth": 0,
              "ticks": ""
             }
            },
            "type": "scatterpolar"
           }
          ],
          "scatterpolargl": [
           {
            "marker": {
             "colorbar": {
              "outlinewidth": 0,
              "ticks": ""
             }
            },
            "type": "scatterpolargl"
           }
          ],
          "scatterternary": [
           {
            "marker": {
             "colorbar": {
              "outlinewidth": 0,
              "ticks": ""
             }
            },
            "type": "scatterternary"
           }
          ],
          "surface": [
           {
            "colorbar": {
             "outlinewidth": 0,
             "ticks": ""
            },
            "colorscale": [
             [
              0,
              "#0d0887"
             ],
             [
              0.1111111111111111,
              "#46039f"
             ],
             [
              0.2222222222222222,
              "#7201a8"
             ],
             [
              0.3333333333333333,
              "#9c179e"
             ],
             [
              0.4444444444444444,
              "#bd3786"
             ],
             [
              0.5555555555555556,
              "#d8576b"
             ],
             [
              0.6666666666666666,
              "#ed7953"
             ],
             [
              0.7777777777777778,
              "#fb9f3a"
             ],
             [
              0.8888888888888888,
              "#fdca26"
             ],
             [
              1,
              "#f0f921"
             ]
            ],
            "type": "surface"
           }
          ],
          "table": [
           {
            "cells": {
             "fill": {
              "color": "#EBF0F8"
             },
             "line": {
              "color": "white"
             }
            },
            "header": {
             "fill": {
              "color": "#C8D4E3"
             },
             "line": {
              "color": "white"
             }
            },
            "type": "table"
           }
          ]
         },
         "layout": {
          "annotationdefaults": {
           "arrowcolor": "#2a3f5f",
           "arrowhead": 0,
           "arrowwidth": 1
          },
          "autotypenumbers": "strict",
          "coloraxis": {
           "colorbar": {
            "outlinewidth": 0,
            "ticks": ""
           }
          },
          "colorscale": {
           "diverging": [
            [
             0,
             "#8e0152"
            ],
            [
             0.1,
             "#c51b7d"
            ],
            [
             0.2,
             "#de77ae"
            ],
            [
             0.3,
             "#f1b6da"
            ],
            [
             0.4,
             "#fde0ef"
            ],
            [
             0.5,
             "#f7f7f7"
            ],
            [
             0.6,
             "#e6f5d0"
            ],
            [
             0.7,
             "#b8e186"
            ],
            [
             0.8,
             "#7fbc41"
            ],
            [
             0.9,
             "#4d9221"
            ],
            [
             1,
             "#276419"
            ]
           ],
           "sequential": [
            [
             0,
             "#0d0887"
            ],
            [
             0.1111111111111111,
             "#46039f"
            ],
            [
             0.2222222222222222,
             "#7201a8"
            ],
            [
             0.3333333333333333,
             "#9c179e"
            ],
            [
             0.4444444444444444,
             "#bd3786"
            ],
            [
             0.5555555555555556,
             "#d8576b"
            ],
            [
             0.6666666666666666,
             "#ed7953"
            ],
            [
             0.7777777777777778,
             "#fb9f3a"
            ],
            [
             0.8888888888888888,
             "#fdca26"
            ],
            [
             1,
             "#f0f921"
            ]
           ],
           "sequentialminus": [
            [
             0,
             "#0d0887"
            ],
            [
             0.1111111111111111,
             "#46039f"
            ],
            [
             0.2222222222222222,
             "#7201a8"
            ],
            [
             0.3333333333333333,
             "#9c179e"
            ],
            [
             0.4444444444444444,
             "#bd3786"
            ],
            [
             0.5555555555555556,
             "#d8576b"
            ],
            [
             0.6666666666666666,
             "#ed7953"
            ],
            [
             0.7777777777777778,
             "#fb9f3a"
            ],
            [
             0.8888888888888888,
             "#fdca26"
            ],
            [
             1,
             "#f0f921"
            ]
           ]
          },
          "colorway": [
           "#636efa",
           "#EF553B",
           "#00cc96",
           "#ab63fa",
           "#FFA15A",
           "#19d3f3",
           "#FF6692",
           "#B6E880",
           "#FF97FF",
           "#FECB52"
          ],
          "font": {
           "color": "#2a3f5f"
          },
          "geo": {
           "bgcolor": "white",
           "lakecolor": "white",
           "landcolor": "#E5ECF6",
           "showlakes": true,
           "showland": true,
           "subunitcolor": "white"
          },
          "hoverlabel": {
           "align": "left"
          },
          "hovermode": "closest",
          "mapbox": {
           "style": "light"
          },
          "paper_bgcolor": "white",
          "plot_bgcolor": "#E5ECF6",
          "polar": {
           "angularaxis": {
            "gridcolor": "white",
            "linecolor": "white",
            "ticks": ""
           },
           "bgcolor": "#E5ECF6",
           "radialaxis": {
            "gridcolor": "white",
            "linecolor": "white",
            "ticks": ""
           }
          },
          "scene": {
           "xaxis": {
            "backgroundcolor": "#E5ECF6",
            "gridcolor": "white",
            "gridwidth": 2,
            "linecolor": "white",
            "showbackground": true,
            "ticks": "",
            "zerolinecolor": "white"
           },
           "yaxis": {
            "backgroundcolor": "#E5ECF6",
            "gridcolor": "white",
            "gridwidth": 2,
            "linecolor": "white",
            "showbackground": true,
            "ticks": "",
            "zerolinecolor": "white"
           },
           "zaxis": {
            "backgroundcolor": "#E5ECF6",
            "gridcolor": "white",
            "gridwidth": 2,
            "linecolor": "white",
            "showbackground": true,
            "ticks": "",
            "zerolinecolor": "white"
           }
          },
          "shapedefaults": {
           "line": {
            "color": "#2a3f5f"
           }
          },
          "ternary": {
           "aaxis": {
            "gridcolor": "white",
            "linecolor": "white",
            "ticks": ""
           },
           "baxis": {
            "gridcolor": "white",
            "linecolor": "white",
            "ticks": ""
           },
           "bgcolor": "#E5ECF6",
           "caxis": {
            "gridcolor": "white",
            "linecolor": "white",
            "ticks": ""
           }
          },
          "title": {
           "x": 0.05
          },
          "xaxis": {
           "automargin": true,
           "gridcolor": "white",
           "linecolor": "white",
           "ticks": "",
           "title": {
            "standoff": 15
           },
           "zerolinecolor": "white",
           "zerolinewidth": 2
          },
          "yaxis": {
           "automargin": true,
           "gridcolor": "white",
           "linecolor": "white",
           "ticks": "",
           "title": {
            "standoff": 15
           },
           "zerolinecolor": "white",
           "zerolinewidth": 2
          }
         }
        },
        "title": {
         "text": "Danceability of my Top 20 Liked Songs"
        },
        "xaxis": {
         "anchor": "y",
         "domain": [
          0,
          1
         ],
         "title": {
          "text": "Artist"
         }
        },
        "yaxis": {
         "anchor": "x",
         "domain": [
          0,
          1
         ],
         "title": {
          "text": "Danceability"
         }
        }
       }
      }
     },
     "metadata": {},
     "output_type": "display_data"
    },
    {
     "name": "stdout",
     "output_type": "stream",
     "text": [
      "Playlist Danceability Score: 0.6062000000000001\n"
     ]
    }
   ],
   "source": [
    "fig = px.scatter(df_liked_songs, x='Artist', color='Track Name', title='Artists in my Top 20 Liked Songs')\n",
    "fig.show()\n",
    "fig = px.bar(df_liked_songs, x='Artist', y='Danceability', color='Track Name', title='Danceability of my Top 20 Liked Songs')\n",
    "fig.show()\n",
    "print(\"Playlist Danceability Score:\", df_liked_songs['Danceability'].mean())"
   ]
  },
  {
   "attachments": {},
   "cell_type": "markdown",
   "metadata": {},
   "source": [
    "# *Conclusion*"
   ]
  },
  {
   "attachments": {},
   "cell_type": "markdown",
   "metadata": {},
   "source": [
    "#### *Your analysis should be well documented and include questions you want to ask of the data and possible actionable insights that Spotify could use to better recommend music to you!*"
   ]
  },
  {
   "attachments": {},
   "cell_type": "markdown",
   "metadata": {},
   "source": [
    "According to the above data that is represented as both a readable format as well as visually, we are able to gain some valuable insights. Firstly, we have identified the top 20 liked songs. We are able to visually represent this by using a scatterplot. Based on that scatterplot we can easily distinguish in which order each song is most liked. Second, we are able to return the track names, artists, and their corresponding danceability ratings. By visually representing the data using a bar graph, we can easily compare the danceability ratings of songs across different artists. Based on the bar graph we see that the danceability ratings vary among the liked songs. This indicates that individuals have diverse preferences when it comes to danceable music. Additionally, we can identify specific artists whose songs consistently receive high or low danceability ratings, which can provide insights into their appeal to different audiences. Though we are already able to utilize the valuable insights returned from our analysis, their is potentially a few more actionable insights we might considered adding. One example of this might be to consider the geographical location of the listener compared to the tempos of their most liked songs. This way Spotify can recommend the potential culturally appropriate song choice. Also by utilizing geographical data we are able to understand the reach of each artist globally. Something else that could potentially benefit the analysis of this data would be to find the average listen time per song. By finding the listening span per user and song would tell us if users enjoy listening to songs in their entirety or just a portion. "
   ]
  }
 ],
 "metadata": {
  "kernelspec": {
   "display_name": "Python 3",
   "language": "python",
   "name": "python3"
  },
  "language_info": {
   "codemirror_mode": {
    "name": "ipython",
    "version": 3
   },
   "file_extension": ".py",
   "mimetype": "text/x-python",
   "name": "python",
   "nbconvert_exporter": "python",
   "pygments_lexer": "ipython3",
   "version": "3.11.3"
  },
  "orig_nbformat": 4
 },
 "nbformat": 4,
 "nbformat_minor": 2
}
