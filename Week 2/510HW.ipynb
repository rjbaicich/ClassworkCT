{
 "cells": [
  {
   "attachments": {},
   "cell_type": "markdown",
   "metadata": {},
   "source": [
    "# Coding Temple's Data Analytics Program\n",
    "---\n",
    "## Python Basics Assignment 3\n",
    "---"
   ]
  },
  {
   "attachments": {},
   "cell_type": "markdown",
   "metadata": {},
   "source": [
    "### **Task 1: Build a Shopping Cart**\n",
    "**You can use either lists or dictionaries. The program should have the following capabilites:**\n",
    "* Takes a string as an input\n",
    "* Stores user input in a dictionary or list\n",
    "* Users should be able to:\n",
    "    * Add Items\n",
    "    * Delete Items\n",
    "    * See current shopping cart\n",
    "* The program should loop until user 'quits'\n",
    "* Upon quitting the program, print out all items in the user's list"
   ]
  },
  {
   "cell_type": "code",
   "execution_count": 49,
   "metadata": {},
   "outputs": [
    {
     "name": "stdout",
     "output_type": "stream",
     "text": [
      "Thank you for shopping with us!\n",
      "Your cart is empty.\n"
     ]
    }
   ],
   "source": [
    "from IPython.display import clear_output\n",
    "\n",
    "\n",
    "def shopping_cart():\n",
    "    cart = []  #empty list for items in cart\n",
    "\n",
    "    while True:\n",
    "        action = input(\"Do you want to: Show/Add/Delete/Clear/Quit? \").lower()\n",
    "\n",
    "        if action == \"show\":\n",
    "            if not cart:  #If the cart is empty\n",
    "                print(\"Your cart is empty.\")\n",
    "            else:\n",
    "                print(\"\\n\".join(cart))  #Print each item in the cart on a new line\n",
    "        elif action == \"add\":\n",
    "            item = input(\"What would you like to add? \")\n",
    "            cart.append(item) \n",
    "        elif action == \"delete\": \n",
    "            item = input(\"What would you like to remove? \")\n",
    "            if item in cart: #If the item is in the cart\n",
    "                cart.remove(item)\n",
    "                print(item + \" removed from cart.\")\n",
    "            else:\n",
    "                print(item + \" is not in cart.\")\n",
    "        elif action == \"clear\":\n",
    "            cart.clear() #Clear the cart list\n",
    "            print(\"Your cart is now empty.\")\n",
    "        elif action == \"quit\":\n",
    "            print(\"Thank you for shopping with us!\")\n",
    "            if not cart:  #If the cart is empty\n",
    "                print(\"Your cart is empty.\")\n",
    "            else:\n",
    "                print(\"Your cart:\")\n",
    "            break \n",
    "\n",
    "shopping_cart()\n",
    "\n",
    "\n"
   ]
  },
  {
   "attachments": {},
   "cell_type": "markdown",
   "metadata": {},
   "source": [
    "### **Task 2: Create a Module and Import it**\n",
    "Create a Module in VS Code and import it into a Jupyter Notebook. \n",
    "\n",
    "**Your module should have the following capabilities:**\n",
    "* Has a function to calculate the square footage of a house\n",
    "* Has a function to calculate the circumference of a circle\n",
    "* Has a function to change feet to inches\n",
    "\n",
    "The program in Jupyter Notebook should take in user input and use the imported functions for their calculations!"
   ]
  },
  {
   "cell_type": "code",
   "execution_count": 50,
   "metadata": {},
   "outputs": [
    {
     "name": "stdout",
     "output_type": "stream",
     "text": [
      "1127\n",
      "100.48\n",
      "660\n"
     ]
    }
   ],
   "source": [
    "import hw510\n",
    "print(hw510.square_footage(23, 49))\n",
    "print(hw510.Circum(16))\n",
    "print(hw510.ft_to_in(55))"
   ]
  },
  {
   "attachments": {},
   "cell_type": "markdown",
   "metadata": {},
   "source": [
    "### **Task 3.1: Lists**\n",
    "Create 4 lists. Two of these lists should be keys, two of these lists should be values"
   ]
  },
  {
   "cell_type": "code",
   "execution_count": 51,
   "metadata": {},
   "outputs": [],
   "source": [
    "keys1 = [\"cheese\", \"grapes\", \"lettuce\"]\n",
    "keys2 = [1, 2, 3]\n",
    "values1 = [4, 5, 6]\n",
    "values2 = [\"blue\", \"yellow\", \"red\"]\n",
    "\n"
   ]
  },
  {
   "attachments": {},
   "cell_type": "markdown",
   "metadata": {},
   "source": [
    "### **Task 3.2: Create a function that converts two lists into a dictionary, then merges two dictionaries into one.**\n",
    "\n",
    "Using your 4 lists, create a function which combines the keys lists with the values lists into a dictionary, then merges and returns the two dictionaries together."
   ]
  },
  {
   "cell_type": "code",
   "execution_count": 52,
   "metadata": {},
   "outputs": [
    {
     "name": "stdout",
     "output_type": "stream",
     "text": [
      "{'cheese': 4, 'grapes': 5, 'lettuce': 6, 1: 'blue', 2: 'yellow', 3: 'red'}\n"
     ]
    }
   ],
   "source": [
    "keys1 = [\"cheese\", \"grapes\", \"lettuce\"]\n",
    "keys2 = [1, 2, 3]\n",
    "values1 = [4, 5, 6]\n",
    "values2 = [\"blue\", \"yellow\", \"red\"]\n",
    "\n",
    "def merge_dictionaries(keys1, values1, keys2, values2):\n",
    "    dict1 = dict(zip(keys1, values1))\n",
    "    dict2 = dict(zip(keys2, values2))\n",
    "    merged_dict = {**dict1, **dict2} #used to merge two dictionaries\n",
    "    return merged_dict\n",
    "result = merge_dictionaries(keys1, values1, keys2, values2)\n",
    "print(result)\n",
    "\n"
   ]
  }
 ],
 "metadata": {
  "kernelspec": {
   "display_name": "Python 3",
   "language": "python",
   "name": "python3"
  },
  "language_info": {
   "name": "python",
   "version": "3.11.3"
  },
  "orig_nbformat": 4,
  "vscode": {
   "interpreter": {
    "hash": "26de051ba29f2982a8de78e945f0abaf191376122a1563185a90213a26c5da77"
   }
  }
 },
 "nbformat": 4,
 "nbformat_minor": 2
}
