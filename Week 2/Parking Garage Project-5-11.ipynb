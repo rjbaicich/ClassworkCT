{
 "cells": [
  {
   "attachments": {},
   "cell_type": "markdown",
   "metadata": {},
   "source": [
    "# Parking Garage Project\n",
    "\n",
    "Your assignment for today is to create a parking garage class to get more familiar with Object Oriented Programming(OOP). \n",
    "\n",
    "Your parking gargage class should have the following methods:\n",
    "- take_ticket\n",
    "   - This should decrease the amount of tickets available by 1\n",
    "   - This should decrease the amount of parking_spaces available by 1\n",
    "- pay_for_parking\n",
    "   - Display an input that waits for an amount from the user and store it in a variable\n",
    "   - If the payment variable is not empty then ->  display a message to the user that their ticket has been paid and they have 15mins to leave\n",
    "   - This should update the \"current_ticket\" dictionary key \"paid\" to True\n",
    "-leave_garage\n",
    "   - If the ticket has been paid, display a message of \"Thank You, have a nice day\"\n",
    "   - If the ticket has not been paid, display an input prompt for payment\n",
    "      - Once paid, display message \"Thank you, have a nice day!\"\n",
    "   - Update parking_spaces list to increase by 1\n",
    "   - Update tickets list to increase by 1\n",
    "\n",
    "You will need a few attributes as well:\n",
    "- tickets -> list\n",
    "- parking_spaces -> list\n",
    "- current_ticket -> dictionary"
   ]
  },
  {
   "cell_type": "code",
   "execution_count": 7,
   "metadata": {},
   "outputs": [
    {
     "name": "stdout",
     "output_type": "stream",
     "text": [
      "Ticket 100 issued. Please park in a parking space.\n",
      "Payment successful. Your ticket has been paid. You have 15 minutes to leave.\n",
      "Thank you! Have a nice day!\n"
     ]
    }
   ],
   "source": [
    "class ParkingGarage:\n",
    "    def __init__(self, tickets, parking_spaces, current_ticket):\n",
    "        self.tickets = tickets\n",
    "        self.parking_spaces = parking_spaces\n",
    "        self.current_ticket = current_ticket\n",
    "\n",
    "    def take_ticket(self):\n",
    "        if self.tickets and self.parking_spaces:\n",
    "            ticket_number = self.tickets.pop()\n",
    "            self.parking_spaces.pop()\n",
    "            print(\"Ticket\", ticket_number, \"issued. Please park in a parking space.\")\n",
    "        else:\n",
    "            print(\"Sorry, the parking garage is full.\")\n",
    "\n",
    "    def pay_for_parking(self):\n",
    "        if self.current_ticket == [\"paid\"]:\n",
    "            print(\"Your ticket has already been paid. You have 15 minutes to leave.\")\n",
    "        else:\n",
    "            payment = input(\"Enter the amount to pay: \")\n",
    "            if payment:\n",
    "                self.current_ticket[\"paid\"] = True\n",
    "                print(\"Payment successful. Your ticket has been paid. You have 15 minutes to leave.\")\n",
    "            else:\n",
    "                print(\"No payment received. Please pay to exit the garage.\")\n",
    "\n",
    "    def leave_garage(self):\n",
    "        if self.current_ticket[\"paid\"]:\n",
    "            print(\"Thank you! Have a nice day!\")\n",
    "            self.parking_spaces.append(\"available\")\n",
    "            self.tickets.append(self.current_ticket == [\"ticket_number\"])\n",
    "            self.current_ticket = {}\n",
    "        else:\n",
    "            payment = input(\"Payment pending. Please enter the amount to pay: \")\n",
    "            if payment:\n",
    "                print(\"Thank you! Have a nice day!\")\n",
    "                self.parking_spaces.append(\"available\")\n",
    "                self.tickets.append(self.current_ticket[\"ticket_number\"])\n",
    "                self.current_ticket = {}\n",
    "            else:\n",
    "                print(\"No payment received. Please pay to exit the garage.\")\n",
    "\n",
    "tickets = list(range(1, 101))\n",
    "parking_spaces = [\"available\"] * 100\n",
    "current_ticket = {}\n",
    "\n",
    "garage = ParkingGarage(tickets, parking_spaces, current_ticket)\n",
    "\n",
    "garage.take_ticket()\n",
    "garage.pay_for_parking()\n",
    "garage.leave_garage()\n",
    "\n"
   ]
  }
 ],
 "metadata": {
  "kernelspec": {
   "display_name": "Python 3",
   "language": "python",
   "name": "python3"
  },
  "language_info": {
   "codemirror_mode": {
    "name": "ipython",
    "version": 3
   },
   "file_extension": ".py",
   "mimetype": "text/x-python",
   "name": "python",
   "nbconvert_exporter": "python",
   "pygments_lexer": "ipython3",
   "version": "3.11.3"
  }
 },
 "nbformat": 4,
 "nbformat_minor": 2
}
