{
 "cells": [
  {
   "attachments": {},
   "cell_type": "markdown",
   "metadata": {},
   "source": [
    "## Python Blackjack\n",
    "For this project you will make a Blackjack game using Python. Click [here](https://www.cs.mcgill.ca/~rwest/wikispeedia/wpcd/wp/b/Blackjack.htm#:~:text=Rules,king%20are%20also%20worth%2010.) to familiarize yourself with the the rules of the game. You won't be implementing every rule \"down to the letter\" with the game, but we will doing a simpler version of the game. This assignment will be given to further test your knowledge on object-oriented programming concepts.\n",
    "### Rules:\n",
    "`1. ` The game will have two players: the Dealer and the Player. The game will start off with a deck of 52 cards. The 52 cards will consist of 4 different suits: Clubs, Diamonds, Hearts and Spades. For each suit, there will be cards numbered 1 through 13. <br>\n",
    "\n",
    "**Note: No wildcards will be used in the program**\n",
    "\n",
    "`2. ` When the game begins, the dealer will shuffle the deck of cards, making them randomized. After the dealer shuffles, it will deal the player 2 cards and will deal itself 2 cards from. The Player should be able to see both of their own cards, but should only be able to see one of the Dealer's cards.\n",
    " \n",
    "`3. ` The objective of the game is for the Player to count their cards after they're dealt. If they're not satisfied with the number, they have the ability to 'Hit'. A hit allows the dealer to deal the Player one additional card. The Player can hit as many times as they'd like as long as they don't 'Bust'. A bust is when the Player is dealt cards that total more than 21.\n",
    "\n",
    "`4. ` If the dealer deals the Player cards equal to 21 on the **first** deal, the Player wins. This is referred to as Blackjack. Blackjack is **NOT** the same as getting cards that equal up to 21 after the first deal. Blackjack can only be attained on the first deal.\n",
    "\n",
    "`5. ` The Player will never see the Dealer's hand until the Player chooses to 'stand'. A Stand is when the player tells the dealer to not deal it anymore cards. Once the player chooses to Stand, the Player and the Dealer will compare their hands. Whoever has the higher number wins. Keep in mind that the Dealer can also bust. \n",
    "\n",
    "***This will be an exercise of how well you understand OOP(Object Oriented Programming). In this project, you will be using \"Pair-Programming\" to complete the assignment.*** \n",
    "\n",
    "***Pair-programming is the use of two developers(sometimes 3 ) to solve a particular problem. Usually, one developer will write the code and the other(s) will give suggestions on what should be in the code.***\n",
    "\n",
    "***However, our assignment calls for a bit more custom \"Pairs\". So, each of you will need to write your code using the code of the main person. For example, if there are two of you in a \"Pair\", you will start by one giving suggestions on what to write, the other will write the code. After the code has been written, the \"suggestion giver\" will then write the same code in their own file line by line. This is to foster the thought process of software development, but also the muscle memory of writing what you're thinking..***"
   ]
  },
  {
   "cell_type": "code",
   "execution_count": 125,
   "metadata": {},
   "outputs": [
    {
     "name": "stdout",
     "output_type": "stream",
     "text": [
      "Player's Hand:\n",
      "Hidden Card\n",
      "5 of Diamonds\n"
     ]
    }
   ],
   "source": [
    "from random import shuffle\n",
    "from IPython.display import clear_output\n",
    "import random\n",
    "\n",
    "# Define the card suits and numbers\n",
    "suits = [\"Clubs\", \"Diamonds\", \"Hearts\", \"Spades\"]\n",
    "numbers = list(range(1, 14))\n",
    "sets = (numbers, suits)\n",
    "\n",
    "# Card class represents a playing card\n",
    "class Card:\n",
    "    def __init__(self, suit, number, sets):\n",
    "        self.suit = suit\n",
    "        self.number = number\n",
    "        self.sets = sets\n",
    "\n",
    "    def __str__(self):\n",
    "        return f\"{self.number} of {self.suit}\"\n",
    "    \n",
    "#Entire deck\n",
    "class Deck:\n",
    "    def __init__(self):\n",
    "        self.cards = [Card(suit, number, sets) for suit in suits for number in numbers]\n",
    "        self.shuffle_deck()\n",
    "\n",
    "    def shuffle_deck(self):\n",
    "        shuffle(self.cards)\n",
    "\n",
    "    def draw_card(self):\n",
    "        return self.cards.pop()\n",
    "    \n",
    "#The player \n",
    "class Player:\n",
    "    def __init__(self):\n",
    "        self.player = Player\n",
    "        self.hand = [player (Card)]\n",
    "        return {self.hand} + {self.set}\n",
    "    \n",
    "def bust(self):\n",
    "        return f' Player bust'\n",
    "    #Show the hand of the user/player\n",
    "def __init(self):\n",
    "    if player : self.hand\n",
    "    #Display blackjack to player\n",
    "def blackjack(self):\n",
    "    return f'Player wins'\n",
    "    def __init__(self):\n",
    "        if player == [blackjack] == \"True\":\n",
    "            if player == [21] == \"True\":\n",
    "                class Human(Player):\n",
    "                    def choose_action(self):\n",
    "                        while True:\n",
    "                            choice = input(\"Do you want to hit or stand? \")\n",
    "            if choice.lower() == \"hit\" or choice.lower() == \"stand\":\n",
    "                return choice.lower()\n",
    "            else:\n",
    "                print(\"Invalid choice. Please enter 'hit' or 'stand'.\")\n",
    "\n",
    "class Game:\n",
    "    def __init__(self):\n",
    "        self.deck = Deck()\n",
    "        self.player = Human()\n",
    "\n",
    "    def play(self):\n",
    "        self.player.draw_initial_cards(self.deck)\n",
    "        self.player.display_hand(hide_card=True)\n",
    "\n",
    "        if self.player.is_blackjack():\n",
    "            print(\"Blackjack! Player wins!\")\n",
    "            return\n",
    "\n",
    "\n",
    "#Start game\n",
    "def main():\n",
    "    game = Game()\n",
    "    game.play()\n",
    "\n",
    "if __name__ == \"__main__\":\n",
    "    main()\n"
   ]
  },
  {
   "cell_type": "code",
   "execution_count": 126,
   "metadata": {
    "scrolled": false
   },
   "outputs": [
    {
     "name": "stdout",
     "output_type": "stream",
     "text": [
      "Player's Hand:\n",
      "Hidden Card\n",
      "2 of Spades\n"
     ]
    }
   ],
   "source": [
    "main()\n",
    "\n",
    "#Expected output based on the outcome of the game - Below is what should happen when the player wins\n",
    "\n",
    "# #Dealer Bust\n",
    "# =============================\n",
    "# Player wins!\n",
    "# ==============================\n",
    "# Player hand: [('Hearts', 6), ('Diamonds', 2), ('Spades', 6), ('Diamonds', 3)]: 17\n",
    "# Dealer hand: [('Spades', 5), ('Clubs', 5), ('Diamonds', 12)]: 22"
   ]
  }
 ],
 "metadata": {
  "kernelspec": {
   "display_name": "Python 3",
   "language": "python",
   "name": "python3"
  },
  "language_info": {
   "codemirror_mode": {
    "name": "ipython",
    "version": 3
   },
   "file_extension": ".py",
   "mimetype": "text/x-python",
   "name": "python",
   "nbconvert_exporter": "python",
   "pygments_lexer": "ipython3",
   "version": "3.7.3"
  }
 },
 "nbformat": 4,
 "nbformat_minor": 2
}
